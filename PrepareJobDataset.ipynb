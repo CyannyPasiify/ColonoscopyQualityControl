{
 "cells": [
  {
   "cell_type": "code",
   "execution_count": 1,
   "id": "initial_id",
   "metadata": {
    "collapsed": true,
    "ExecuteTime": {
     "end_time": "2023-09-06T03:50:50.035796Z",
     "start_time": "2023-09-06T03:50:50.026946200Z"
    }
   },
   "outputs": [],
   "source": [
    "import json"
   ]
  },
  {
   "cell_type": "code",
   "execution_count": 2,
   "outputs": [],
   "source": [
    "ds_all_json_path = '../Datasets/UIHNJMuLv3/cls_folds/train_validation_test_fold.json'"
   ],
   "metadata": {
    "collapsed": false,
    "ExecuteTime": {
     "end_time": "2023-09-06T03:50:50.049612800Z",
     "start_time": "2023-09-06T03:50:50.035796Z"
    }
   },
   "id": "ede2f0dfa80c0861"
  },
  {
   "cell_type": "code",
   "execution_count": 3,
   "outputs": [],
   "source": [
    "with open(ds_all_json_path, 'r') as f:\n",
    "    ds_all = json.load(f)"
   ],
   "metadata": {
    "collapsed": false,
    "ExecuteTime": {
     "end_time": "2023-09-06T03:50:50.202687900Z",
     "start_time": "2023-09-06T03:50:50.090174600Z"
    }
   },
   "id": "84344a6b5e1a551b"
  },
  {
   "cell_type": "code",
   "execution_count": 4,
   "outputs": [
    {
     "data": {
      "text/plain": "dict_keys(['code', 'idmap', 'train_statistics', 'validation_statistics', 'test_statistics', 'train', 'validation', 'test'])"
     },
     "execution_count": 4,
     "metadata": {},
     "output_type": "execute_result"
    }
   ],
   "source": [
    "ds_all.keys()"
   ],
   "metadata": {
    "collapsed": false,
    "ExecuteTime": {
     "end_time": "2023-09-06T03:50:50.251735600Z",
     "start_time": "2023-09-06T03:50:50.208118500Z"
    }
   },
   "id": "7e422b280f7707c3"
  },
  {
   "cell_type": "code",
   "execution_count": 5,
   "outputs": [],
   "source": [
    "jobs_json_dict = {\"position\": {'code':['inside','outside']},\n",
    "                  \"quality\":{'code':['fine','nonsense']}, \n",
    "                  \"ileocecal\":{'code':['nofeature','ileocecal']}, \n",
    "                  \"cleansing\":{'code':['bbps0', 'bbps1', 'bbps2', 'bbps3']}}"
   ],
   "metadata": {
    "collapsed": false,
    "ExecuteTime": {
     "end_time": "2023-09-06T03:50:50.256119400Z",
     "start_time": "2023-09-06T03:50:50.252609600Z"
    }
   },
   "id": "1707b40577a046e"
  },
  {
   "cell_type": "code",
   "execution_count": 6,
   "outputs": [
    {
     "data": {
      "text/plain": "['outside', 'nonsense', 'ileocecal', 'bbps0', 'bbps1', 'bbps2', 'bbps3']"
     },
     "execution_count": 6,
     "metadata": {},
     "output_type": "execute_result"
    }
   ],
   "source": [
    "ds_all['code']"
   ],
   "metadata": {
    "collapsed": false,
    "ExecuteTime": {
     "end_time": "2023-09-06T03:50:50.256119400Z",
     "start_time": "2023-09-06T03:50:50.253114400Z"
    }
   },
   "id": "1550b8462cba1b4e"
  },
  {
   "cell_type": "code",
   "execution_count": 7,
   "outputs": [
    {
     "data": {
      "text/plain": "<function dict.keys>"
     },
     "execution_count": 7,
     "metadata": {},
     "output_type": "execute_result"
    }
   ],
   "source": [
    "ds_all.keys"
   ],
   "metadata": {
    "collapsed": false,
    "ExecuteTime": {
     "end_time": "2023-09-06T03:50:50.256119400Z",
     "start_time": "2023-09-06T03:50:50.253114400Z"
    }
   },
   "id": "e5949e1ade4b956a"
  },
  {
   "cell_type": "code",
   "execution_count": 8,
   "outputs": [],
   "source": [
    "# labels的顺序是['outside', 'nonsense', 'ileocecal', 'bbps0', 'bbps1', 'bbps2', 'bbps3']\n",
    "# 每个位置对应一个float值，代表了这个位置的概率\n",
    "def check_and_pick_for_job(job_name, sample:list):\n",
    "    job_file = sample[0]\n",
    "    sample_labels = sample[1][1]\n",
    "    if job_name == \"position\":\n",
    "        job_label = [sample_labels[0]]\n",
    "        return job_file, job_label\n",
    "    elif job_name == \"quality\": # quality 要求outside必须为0\n",
    "        if sample_labels[0] == 1:\n",
    "            return None, None\n",
    "        else:\n",
    "            job_label = [sample_labels[1]]\n",
    "            return job_file, job_label\n",
    "    elif job_name == \"ileocecal\": # ileocecal 要求outside和nonsense必须为0\n",
    "        if sample_labels[0] == 1:\n",
    "            return None, None\n",
    "        elif sample_labels[1] == 1:\n",
    "            return None, None\n",
    "        else:\n",
    "            job_label = [sample_labels[2]]\n",
    "            return job_file, job_label\n",
    "    elif job_name == \"cleansing\": # cleansing 要求outside和nonsense必须为0\n",
    "        if sample_labels[0] == 1:\n",
    "            return None, None\n",
    "        elif sample_labels[1] == 1:\n",
    "            return None, None\n",
    "        else:\n",
    "            job_label = sample_labels[3:]\n",
    "            return job_file, job_label\n",
    "    else:\n",
    "        raise ValueError(\"job_name must be one of ['position', 'quality', 'ileocecal', 'cleansing']\")\n",
    "       "
   ],
   "metadata": {
    "collapsed": false,
    "ExecuteTime": {
     "end_time": "2023-09-06T03:50:50.332476500Z",
     "start_time": "2023-09-06T03:50:50.297791700Z"
    }
   },
   "id": "9824b86b395c71c4"
  },
  {
   "cell_type": "code",
   "execution_count": 9,
   "outputs": [],
   "source": [
    "from collections import OrderedDict\n",
    "\n",
    "for job_name in jobs_json_dict.keys():\n",
    "    for mode in ['train', 'validation', 'test']:\n",
    "        jobs_json_dict[job_name][mode] = OrderedDict()\n",
    "        for set_name in ds_all[mode].keys():\n",
    "            data_origin = ds_all[mode][set_name]\n",
    "            for entry in data_origin.items():\n",
    "                job_file, job_label = check_and_pick_for_job(job_name, entry)\n",
    "                if job_file is None:\n",
    "                    continue\n",
    "                else:\n",
    "                    jobs_json_dict[job_name][mode][job_file] = job_label\n",
    "            "
   ],
   "metadata": {
    "collapsed": false,
    "ExecuteTime": {
     "end_time": "2023-09-06T03:50:50.478638300Z",
     "start_time": "2023-09-06T03:50:50.297791700Z"
    }
   },
   "id": "ec7c4582b4927eb"
  },
  {
   "cell_type": "code",
   "execution_count": 10,
   "outputs": [],
   "source": [
    "for job_name in jobs_json_dict.keys():\n",
    "        json.dump(jobs_json_dict[job_name], open(f'../Datasets/UIHNJMuLv3/cls_folds/job_{job_name}_train_validation_test_fold.json', 'w'), indent=4)"
   ],
   "metadata": {
    "collapsed": false,
    "ExecuteTime": {
     "end_time": "2023-09-06T03:50:50.926817400Z",
     "start_time": "2023-09-06T03:50:50.478638300Z"
    }
   },
   "id": "77da83bc3eb57dff"
  },
  {
   "cell_type": "code",
   "execution_count": 10,
   "outputs": [],
   "source": [],
   "metadata": {
    "collapsed": false,
    "ExecuteTime": {
     "end_time": "2023-09-06T03:50:50.973610600Z",
     "start_time": "2023-09-06T03:50:50.930188900Z"
    }
   },
   "id": "28fc183fbbdeca0a"
  },
  {
   "cell_type": "code",
   "execution_count": 12,
   "outputs": [],
   "source": [
    "import torch\n",
    "import torch.nn.functional as F\n",
    "# loss function\n",
    "import torch.nn as nn\n"
   ],
   "metadata": {
    "collapsed": false,
    "ExecuteTime": {
     "end_time": "2023-09-05T14:55:44.736573500Z",
     "start_time": "2023-09-05T14:55:44.732375700Z"
    }
   },
   "id": "8412e578ab7a7a06"
  },
  {
   "cell_type": "code",
   "execution_count": null,
   "outputs": [],
   "source": [
    "F.cross_entropy(torch.tensor([[0.1, 0.2, 0.3, 0.4], [0.1, 0.2, 0.3, 0.4]]), torch.tensor([0, 1]))"
   ],
   "metadata": {
    "collapsed": false
   },
   "id": "20b8f25492225906"
  }
 ],
 "metadata": {
  "kernelspec": {
   "display_name": "Python 3",
   "language": "python",
   "name": "python3"
  },
  "language_info": {
   "codemirror_mode": {
    "name": "ipython",
    "version": 2
   },
   "file_extension": ".py",
   "mimetype": "text/x-python",
   "name": "python",
   "nbconvert_exporter": "python",
   "pygments_lexer": "ipython2",
   "version": "2.7.6"
  }
 },
 "nbformat": 4,
 "nbformat_minor": 5
}
