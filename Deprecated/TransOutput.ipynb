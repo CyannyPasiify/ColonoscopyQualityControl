{
 "cells": [
  {
   "cell_type": "code",
   "execution_count": 1,
   "id": "initial_id",
   "metadata": {
    "collapsed": true,
    "ExecuteTime": {
     "end_time": "2023-11-01T03:16:22.970867600Z",
     "start_time": "2023-11-01T03:16:22.966842500Z"
    }
   },
   "outputs": [],
   "source": [
    "import json"
   ]
  },
  {
   "cell_type": "code",
   "execution_count": 2,
   "outputs": [],
   "source": [
    "d = json.load(open(\"/mnt/data/cwy/ColonoscopyQualityControl/Experiment/R10000_detect_fps_vitp14s336c7/predicts/NC_LT_Clip/predict_result.json\",'r'))"
   ],
   "metadata": {
    "collapsed": false,
    "ExecuteTime": {
     "end_time": "2023-11-01T03:16:23.771039300Z",
     "start_time": "2023-11-01T03:16:23.725717800Z"
    }
   },
   "id": "234fd999d460a6ad"
  },
  {
   "cell_type": "code",
   "execution_count": 3,
   "outputs": [],
   "source": [
    "with open(\"out.txt\",'w') as f:\n",
    "    for k, v in d.items():\n",
    "        print(\"NC_LT_Clip/\"+k,file=f,end=' ')\n",
    "        res = []\n",
    "        if v[0] == 1: res.append(4)\n",
    "        if v[1] == 1: res.append(5)\n",
    "        if v[2] == 1: res.append(6)\n",
    "        if v[3] == 1: res.append(0)\n",
    "        if v[4] == 1: res.append(1)\n",
    "        if v[5] == 1: res.append(2)\n",
    "        if v[6] == 1: res.append(3)\n",
    "        sorted(res,reverse=False)\n",
    "        for it in res:\n",
    "            print(it,file=f,end=' ')\n",
    "        f.write('\\n')\n",
    "        \n",
    "            \n",
    "            "
   ],
   "metadata": {
    "collapsed": false,
    "ExecuteTime": {
     "end_time": "2023-11-01T03:16:50.495103400Z",
     "start_time": "2023-11-01T03:16:50.478465300Z"
    }
   },
   "id": "9d5065da85fe2a4"
  },
  {
   "cell_type": "code",
   "execution_count": 12,
   "outputs": [
    {
     "data": {
      "text/plain": "\"         0: 'outside',\\n            1: 'nonsense',\\n            2: 'ileocecal',\\n            3: 'bbps0',\\n            4: 'bbps1',\\n            5: 'bbps2',\\n            6: 'bbps3',\\n\""
     },
     "execution_count": 12,
     "metadata": {},
     "output_type": "execute_result"
    }
   ],
   "source": [
    "'''         0: 'outside',\n",
    "            1: 'nonsense',\n",
    "            2: 'ileocecal',\n",
    "            3: 'bbps0',\n",
    "            4: 'bbps1',\n",
    "            5: 'bbps2',\n",
    "            6: 'bbps3',\n",
    "''' "
   ],
   "metadata": {
    "collapsed": false,
    "ExecuteTime": {
     "end_time": "2023-09-20T01:05:04.700110800Z",
     "start_time": "2023-09-20T01:05:04.693093400Z"
    }
   },
   "id": "ec46212611a66fa3"
  }
 ],
 "metadata": {
  "kernelspec": {
   "display_name": "Python 3",
   "language": "python",
   "name": "python3"
  },
  "language_info": {
   "codemirror_mode": {
    "name": "ipython",
    "version": 2
   },
   "file_extension": ".py",
   "mimetype": "text/x-python",
   "name": "python",
   "nbconvert_exporter": "python",
   "pygments_lexer": "ipython2",
   "version": "2.7.6"
  }
 },
 "nbformat": 4,
 "nbformat_minor": 5
}
