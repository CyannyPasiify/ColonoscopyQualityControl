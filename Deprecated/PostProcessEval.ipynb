{
 "cells": [
  {
   "cell_type": "code",
   "execution_count": 9,
   "id": "initial_id",
   "metadata": {
    "collapsed": true,
    "ExecuteTime": {
     "end_time": "2023-11-24T08:25:02.127566800Z",
     "start_time": "2023-11-24T08:25:02.115056600Z"
    }
   },
   "outputs": [],
   "source": [
    "import os.path as osp\n",
    "from PostProcess import *"
   ]
  },
  {
   "cell_type": "code",
   "execution_count": 10,
   "outputs": [],
   "source": [
    "video = 'QLM230313_154343_077m_25fps'"
   ],
   "metadata": {
    "collapsed": false,
    "ExecuteTime": {
     "end_time": "2023-11-24T08:25:02.241997Z",
     "start_time": "2023-11-24T08:25:02.235947500Z"
    }
   },
   "id": "29c5e065c0f7729f"
  },
  {
   "cell_type": "code",
   "execution_count": 11,
   "outputs": [],
   "source": [
    "index_label = {\n",
    "    0: 'outside',\n",
    "    1: 'nonsense',\n",
    "    2: 'ileocecal',\n",
    "    3: 'bbps0',\n",
    "    4: 'bbps1',\n",
    "    5: 'bbps2',\n",
    "    6: 'bbps3',\n",
    "}"
   ],
   "metadata": {
    "collapsed": false,
    "ExecuteTime": {
     "end_time": "2023-11-24T08:25:02.427516900Z",
     "start_time": "2023-11-24T08:25:02.380511800Z"
    }
   },
   "id": "a96993fa993b8048"
  },
  {
   "cell_type": "code",
   "execution_count": 12,
   "outputs": [],
   "source": [
    "do_fix_outside = True\n",
    "do_fix_nonsense = True"
   ],
   "metadata": {
    "collapsed": false,
    "ExecuteTime": {
     "end_time": "2023-11-24T08:25:02.549514500Z",
     "start_time": "2023-11-24T08:25:02.528607Z"
    }
   },
   "id": "bd2aa37e1d38c840"
  },
  {
   "cell_type": "code",
   "execution_count": 13,
   "outputs": [],
   "source": [
    "exp_root = '/mnt/data/cwy/ColonoscopyQualityControl/Experiment/R10001_detect_fps_vitp14s336c7'\n",
    "#exp_root = '/mnt/data/cwy/ColonoscopyQualityControl/Experiment/SingleTask_VGG19'"
   ],
   "metadata": {
    "collapsed": false,
    "ExecuteTime": {
     "end_time": "2023-11-24T08:25:02.659318600Z",
     "start_time": "2023-11-24T08:25:02.655818300Z"
    }
   },
   "id": "be51740081d1c014"
  },
  {
   "cell_type": "code",
   "execution_count": 14,
   "outputs": [],
   "source": [
    "pred_json_root = osp.join(exp_root, 'predicts', video)\n",
    "pred_json_path = osp.join(pred_json_root, 'predict_result.json')\n",
    "#pred_json_root = '/mnt/data/cwy/ColonoscopyQualityControl/Experiment/SingleTask_VGG19'\n",
    "#pred_json_path = '/mnt/data/cwy/ColonoscopyQualityControl/Experiment/SingleTask_VGG19/pred_merged_result.json'"
   ],
   "metadata": {
    "collapsed": false,
    "ExecuteTime": {
     "end_time": "2023-11-24T08:25:02.796094200Z",
     "start_time": "2023-11-24T08:25:02.757395700Z"
    }
   },
   "id": "ec2d7ad46d4502fa"
  },
  {
   "cell_type": "code",
   "execution_count": 15,
   "outputs": [],
   "source": [
    "outlier_json_root = osp.join(exp_root, 'outliers', video)\n",
    "outlier_json_path = osp.join(outlier_json_root,'outlier_result.json')\n",
    "#outlier_json_root = '/mnt/data/cwy/ColonoscopyQualityControl/Experiment/R1001_detect_SingleTask_VGG19/outliers/SingleTask_VGG19'\n",
    "#outlier_json_path = '/mnt/data/cwy/ColonoscopyQualityControl/Experiment/R1001_detect_SingleTask_VGG19/outliers/SingleTask_VGG19/outlier_result.json'"
   ],
   "metadata": {
    "collapsed": false,
    "ExecuteTime": {
     "end_time": "2023-11-24T08:25:03.355627900Z",
     "start_time": "2023-11-24T08:25:03.348647200Z"
    }
   },
   "id": "1c1804a21fc0082d"
  },
  {
   "cell_type": "code",
   "execution_count": 16,
   "outputs": [],
   "source": [
    "d = json.load(open(pred_json_path, 'r'))\n",
    "with open(osp.join(pred_json_root, 'pred.txt'),'w') as f:\n",
    "    for k, v in d.items():\n",
    "        print(f\"{video}/\"+k,file=f,end=' ')\n",
    "        res = []\n",
    "        if v[0] == 1: res.append(4)\n",
    "        if v[1] == 1: res.append(5)\n",
    "        if v[2] == 1: res.append(6)\n",
    "        if v[3] == 1: res.append(0)\n",
    "        if v[4] == 1: res.append(1)\n",
    "        if v[5] == 1: res.append(2)\n",
    "        if v[6] == 1: res.append(3)\n",
    "        sorted(res,reverse=False)\n",
    "        for it in res:\n",
    "            print(it,file=f,end=' ')\n",
    "        f.write('\\n')"
   ],
   "metadata": {
    "collapsed": false,
    "ExecuteTime": {
     "end_time": "2023-11-24T08:25:03.668279Z",
     "start_time": "2023-11-24T08:25:03.641818800Z"
    }
   },
   "id": "fe0cf64ec3c478e9"
  },
  {
   "cell_type": "code",
   "execution_count": 17,
   "outputs": [],
   "source": [
    "gt_path = osp.join(pred_json_root, 'gt.txt')\n",
    "pred_path = osp.join(pred_json_root, 'pred.txt')"
   ],
   "metadata": {
    "collapsed": false,
    "ExecuteTime": {
     "end_time": "2023-11-24T08:25:04.183373800Z",
     "start_time": "2023-11-24T08:25:04.165308300Z"
    }
   },
   "id": "68b24a64148cb470"
  },
  {
   "cell_type": "code",
   "execution_count": 18,
   "outputs": [],
   "source": [
    "def read_from_imagenet(txt_path: str):\n",
    "    name_all = []\n",
    "    label_all = []\n",
    "    with open(txt_path, 'r') as f:\n",
    "        lines = f.readlines()\n",
    "    for line in lines:\n",
    "        # 0位置是图片名\n",
    "        line = line.strip()\n",
    "        name = line.split(' ')[0]\n",
    "        name_all.append(name)\n",
    "        try:\n",
    "            labels = [int(x)-1 for x in line.split(' ')[1:]]\n",
    "        except ValueError:\n",
    "            print(line)\n",
    "            raise\n",
    "        label_list = [0, 0, 0, 0, 0, 0, 0]\n",
    "        for label in labels:\n",
    "            label_list[label] = 1\n",
    "        # 把后面4个bbps标签移动到最前面\n",
    "        label_list = label_list[3:] + label_list[:3]\n",
    "        label_all.append(label_list)\n",
    "\n",
    "    return name_all, torch.tensor(label_all)"
   ],
   "metadata": {
    "collapsed": false,
    "ExecuteTime": {
     "end_time": "2023-11-24T08:25:04.530941100Z",
     "start_time": "2023-11-24T08:25:04.523867100Z"
    }
   },
   "id": "4883fa77f565eb13"
  },
  {
   "cell_type": "code",
   "execution_count": 19,
   "outputs": [],
   "source": [
    "pred_names, pred_labels = read_from_imagenet(pred_path)\n",
    "# gt_labels与pred_labels的每一行是一个长度为7的标签向量，分别对应label_dict的每个类别"
   ],
   "metadata": {
    "collapsed": false,
    "ExecuteTime": {
     "end_time": "2023-11-24T08:25:04.885817900Z",
     "start_time": "2023-11-24T08:25:04.856020600Z"
    }
   },
   "id": "388086404d1c52da"
  },
  {
   "cell_type": "code",
   "execution_count": 20,
   "outputs": [],
   "source": [
    "pred_ori = pred_labels.clone().detach()"
   ],
   "metadata": {
    "collapsed": false,
    "ExecuteTime": {
     "end_time": "2023-11-24T08:25:05.622064500Z",
     "start_time": "2023-11-24T08:25:05.594812100Z"
    }
   },
   "id": "7d8257a86456b0f6"
  },
  {
   "cell_type": "code",
   "execution_count": 21,
   "outputs": [
    {
     "name": "stdout",
     "output_type": "stream",
     "text": [
      "Fix [101, 101]: 101=[0, 1, 0, 0, 0, 0, 0]\n",
      "Fix [268, 369]: 268=[0, 1, 0, 0, 0, 0, 0]\n",
      "Fix [268, 369]: 269 not change\n",
      "Fix [268, 369]: 270 not change\n",
      "Fix [268, 369]: 271 not change\n",
      "Fix [268, 369]: 272 not change\n",
      "Fix [268, 369]: 273 not change\n",
      "Fix [268, 369]: 274 not change\n",
      "Fix [268, 369]: 275 not change\n",
      "Fix [268, 369]: 276 not change\n",
      "Fix [268, 369]: 277 not change\n",
      "Fix [268, 369]: 278 not change\n",
      "Fix [268, 369]: 279=[0, 1, 0, 0, 0, 0, 0]\n",
      "Fix [268, 369]: 280=[0, 1, 0, 0, 0, 0, 0]\n",
      "Fix [268, 369]: 281 not change\n",
      "Fix [268, 369]: 282 not change\n",
      "Fix [268, 369]: 283 not change\n",
      "Fix [268, 369]: 284 not change\n",
      "Fix [268, 369]: 285 not change\n",
      "Fix [268, 369]: 286 not change\n",
      "Fix [268, 369]: 287 not change\n",
      "Fix [268, 369]: 288 not change\n",
      "Fix [268, 369]: 289 not change\n",
      "Fix [268, 369]: 290 not change\n",
      "Fix [268, 369]: 291 not change\n",
      "Fix [268, 369]: 292 not change\n",
      "Fix [268, 369]: 293 not change\n",
      "Fix [268, 369]: 294 not change\n",
      "Fix [268, 369]: 295 not change\n",
      "Fix [268, 369]: 296 not change\n",
      "Fix [268, 369]: 297 not change\n",
      "Fix [268, 369]: 298 not change\n",
      "Fix [268, 369]: 299 not change\n",
      "Fix [268, 369]: 300 not change\n",
      "Fix [268, 369]: 301 not change\n",
      "Fix [268, 369]: 302 not change\n",
      "Fix [268, 369]: 303 not change\n",
      "Fix [268, 369]: 304 not change\n",
      "Fix [268, 369]: 305 not change\n",
      "Fix [268, 369]: 306 not change\n",
      "Fix [268, 369]: 307 not change\n",
      "Fix [268, 369]: 308 not change\n",
      "Fix [268, 369]: 309 not change\n",
      "Fix [268, 369]: 310 not change\n",
      "Fix [268, 369]: 311 not change\n",
      "Fix [268, 369]: 312 not change\n",
      "Fix [268, 369]: 313 not change\n",
      "Fix [268, 369]: 314 not change\n",
      "Fix [268, 369]: 315 not change\n",
      "Fix [268, 369]: 316 not change\n",
      "Fix [268, 369]: 317 not change\n",
      "Fix [268, 369]: 318 not change\n",
      "Fix [268, 369]: 319 not change\n",
      "Fix [268, 369]: 320 not change\n",
      "Fix [268, 369]: 321 not change\n",
      "Fix [268, 369]: 322 not change\n",
      "Fix [268, 369]: 323 not change\n",
      "Fix [268, 369]: 324 not change\n",
      "Fix [268, 369]: 325 not change\n",
      "Fix [268, 369]: 326 not change\n",
      "Fix [268, 369]: 327 not change\n",
      "Fix [268, 369]: 328 not change\n",
      "Fix [268, 369]: 329 not change\n",
      "Fix [268, 369]: 330 not change\n",
      "Fix [268, 369]: 331 not change\n",
      "Fix [268, 369]: 332 not change\n",
      "Fix [268, 369]: 333 not change\n",
      "Fix [268, 369]: 334 not change\n",
      "Fix [268, 369]: 335 not change\n",
      "Fix [268, 369]: 336 not change\n",
      "Fix [268, 369]: 337 not change\n",
      "Fix [268, 369]: 338 not change\n",
      "Fix [268, 369]: 339 not change\n",
      "Fix [268, 369]: 340 not change\n",
      "Fix [268, 369]: 341 not change\n",
      "Fix [268, 369]: 342 not change\n",
      "Fix [268, 369]: 343 not change\n",
      "Fix [268, 369]: 344 not change\n",
      "Fix [268, 369]: 345 not change\n",
      "Fix [268, 369]: 346 not change\n",
      "Fix [268, 369]: 347 not change\n",
      "Fix [268, 369]: 348 not change\n",
      "Fix [268, 369]: 349 not change\n",
      "Fix [268, 369]: 350 not change\n",
      "Fix [268, 369]: 351 not change\n",
      "Fix [268, 369]: 352 not change\n",
      "Fix [268, 369]: 353 not change\n",
      "Fix [268, 369]: 354 not change\n",
      "Fix [268, 369]: 355 not change\n",
      "Fix [268, 369]: 356 not change\n",
      "Fix [268, 369]: 357 not change\n",
      "Fix [268, 369]: 358 not change\n",
      "Fix [268, 369]: 359 not change\n",
      "Fix [268, 369]: 360 not change\n",
      "Fix [268, 369]: 361 not change\n",
      "Fix [268, 369]: 362 not change\n",
      "Fix [268, 369]: 363=[0, 1, 0, 0, 0, 0, 0]\n",
      "Fix [268, 369]: 364 not change\n",
      "Fix [268, 369]: 365 not change\n",
      "Fix [268, 369]: 366 not change\n",
      "Fix [268, 369]: 367 not change\n",
      "Fix [268, 369]: 368 not change\n",
      "Fix [268, 369]: 369=[0, 1, 0, 0, 0, 0, 0]\n",
      "Fix [505, 508]: 505=[0, 1, 0, 0, 0, 0, 0]\n",
      "Fix [505, 508]: 506=[0, 1, 0, 0, 0, 0, 0]\n",
      "Fix [505, 508]: 507=[0, 1, 0, 0, 0, 0, 0]\n",
      "Fix [505, 508]: 508=[0, 1, 0, 0, 0, 0, 0]\n",
      "Fix [763, 771]: 763=[0, 1, 0, 0, 0, 0, 0]\n",
      "Fix [763, 771]: 764 not change\n",
      "Fix [763, 771]: 765 not change\n",
      "Fix [763, 771]: 766 not change\n",
      "Fix [763, 771]: 767 not change\n",
      "Fix [763, 771]: 768 not change\n",
      "Fix [763, 771]: 769 not change\n",
      "Fix [763, 771]: 770 not change\n",
      "Fix [763, 771]: 771=[0, 1, 0, 0, 0, 0, 0]\n",
      "Fix [2316, 2317]: 2316=[0, 1, 0, 0, 0, 0, 0]\n",
      "Fix [2316, 2317]: 2317=[0, 1, 0, 0, 0, 0, 0]\n",
      "Fix [2435, 2435]: 2435=[0, 1, 0, 0, 0, 0, 0]\n",
      "Fix [3932, 4080]: 3932=[0, 1, 0, 0, 0, 0, 0]\n",
      "Fix [3932, 4080]: 3933 not change\n",
      "Fix [3932, 4080]: 3934 not change\n",
      "Fix [3932, 4080]: 3935=[0, 1, 0, 0, 0, 0, 0]\n",
      "Fix [3932, 4080]: 3936=[0, 1, 0, 0, 0, 0, 0]\n",
      "Fix [3932, 4080]: 3937=[0, 1, 0, 0, 0, 0, 0]\n",
      "Fix [3932, 4080]: 3938=[0, 1, 0, 0, 0, 0, 0]\n",
      "Fix [3932, 4080]: 3939=[0, 1, 0, 0, 0, 0, 0]\n",
      "Fix [3932, 4080]: 3940=[0, 1, 0, 0, 0, 0, 0]\n",
      "Fix [3932, 4080]: 3941=[0, 1, 0, 0, 0, 0, 0]\n",
      "Fix [3932, 4080]: 3942=[0, 1, 0, 0, 0, 0, 0]\n",
      "Fix [3932, 4080]: 3943=[0, 1, 0, 0, 0, 0, 0]\n",
      "Fix [3932, 4080]: 3944=[0, 1, 0, 0, 0, 0, 0]\n",
      "Fix [3932, 4080]: 3945=[0, 1, 0, 0, 0, 0, 0]\n",
      "Fix [3932, 4080]: 3946=[0, 1, 0, 0, 0, 0, 0]\n",
      "Fix [3932, 4080]: 3947=[0, 1, 0, 0, 0, 0, 0]\n",
      "Fix [3932, 4080]: 3948=[0, 1, 0, 0, 0, 0, 0]\n",
      "Fix [3932, 4080]: 3949=[0, 1, 0, 0, 0, 0, 0]\n",
      "Fix [3932, 4080]: 3950=[0, 1, 0, 0, 0, 0, 0]\n",
      "Fix [3932, 4080]: 3951=[0, 1, 0, 0, 0, 0, 0]\n",
      "Fix [3932, 4080]: 3952=[0, 1, 0, 0, 0, 0, 0]\n",
      "Fix [3932, 4080]: 3953=[0, 1, 0, 0, 0, 0, 0]\n",
      "Fix [3932, 4080]: 3954=[0, 1, 0, 0, 0, 0, 0]\n",
      "Fix [3932, 4080]: 3955=[0, 1, 0, 0, 0, 0, 0]\n",
      "Fix [3932, 4080]: 3956=[0, 1, 0, 0, 0, 0, 0]\n",
      "Fix [3932, 4080]: 3957=[0, 1, 0, 0, 0, 0, 0]\n",
      "Fix [3932, 4080]: 3958=[0, 1, 0, 0, 0, 0, 0]\n",
      "Fix [3932, 4080]: 3959=[0, 1, 0, 0, 0, 0, 0]\n",
      "Fix [3932, 4080]: 3960=[0, 1, 0, 0, 0, 0, 0]\n",
      "Fix [3932, 4080]: 3961=[0, 1, 0, 0, 0, 0, 0]\n",
      "Fix [3932, 4080]: 3962=[0, 1, 0, 0, 0, 0, 0]\n",
      "Fix [3932, 4080]: 3963=[0, 1, 0, 0, 0, 0, 0]\n",
      "Fix [3932, 4080]: 3964=[0, 1, 0, 0, 0, 0, 0]\n",
      "Fix [3932, 4080]: 3965=[0, 1, 0, 0, 0, 0, 0]\n",
      "Fix [3932, 4080]: 3966=[0, 1, 0, 0, 0, 0, 0]\n",
      "Fix [3932, 4080]: 3967=[0, 1, 0, 0, 0, 0, 0]\n",
      "Fix [3932, 4080]: 3968=[0, 1, 0, 0, 0, 0, 0]\n",
      "Fix [3932, 4080]: 3969=[0, 1, 0, 0, 0, 0, 0]\n",
      "Fix [3932, 4080]: 3970=[0, 1, 0, 0, 0, 0, 0]\n",
      "Fix [3932, 4080]: 3971=[0, 1, 0, 0, 0, 0, 0]\n",
      "Fix [3932, 4080]: 3972=[0, 1, 0, 0, 0, 0, 0]\n",
      "Fix [3932, 4080]: 3973=[0, 1, 0, 0, 0, 0, 0]\n",
      "Fix [3932, 4080]: 3974=[0, 1, 0, 0, 0, 0, 0]\n",
      "Fix [3932, 4080]: 3975=[0, 1, 0, 0, 0, 0, 0]\n",
      "Fix [3932, 4080]: 3976=[0, 1, 0, 0, 0, 0, 0]\n",
      "Fix [3932, 4080]: 3977=[0, 1, 0, 0, 0, 0, 0]\n",
      "Fix [3932, 4080]: 3978=[0, 1, 0, 0, 0, 0, 0]\n",
      "Fix [3932, 4080]: 3979=[0, 1, 0, 0, 0, 0, 0]\n",
      "Fix [3932, 4080]: 3980=[0, 1, 0, 0, 0, 0, 0]\n",
      "Fix [3932, 4080]: 3981=[0, 1, 0, 0, 0, 0, 0]\n",
      "Fix [3932, 4080]: 3982=[0, 1, 0, 0, 0, 0, 0]\n",
      "Fix [3932, 4080]: 3983=[0, 1, 0, 0, 0, 0, 0]\n",
      "Fix [3932, 4080]: 3984=[0, 1, 0, 0, 0, 0, 0]\n",
      "Fix [3932, 4080]: 3985=[0, 1, 0, 0, 0, 0, 0]\n",
      "Fix [3932, 4080]: 3986=[0, 1, 0, 0, 0, 0, 0]\n",
      "Fix [3932, 4080]: 3987=[0, 1, 0, 0, 0, 0, 0]\n",
      "Fix [3932, 4080]: 3988=[0, 1, 0, 0, 0, 0, 0]\n",
      "Fix [3932, 4080]: 3989=[0, 1, 0, 0, 0, 0, 0]\n",
      "Fix [3932, 4080]: 3990=[0, 1, 0, 0, 0, 0, 0]\n",
      "Fix [3932, 4080]: 3991=[0, 1, 0, 0, 0, 0, 0]\n",
      "Fix [3932, 4080]: 3992 not change\n",
      "Fix [3932, 4080]: 3993 not change\n",
      "Fix [3932, 4080]: 3994 not change\n",
      "Fix [3932, 4080]: 3995 not change\n",
      "Fix [3932, 4080]: 3996=[0, 1, 0, 0, 0, 0, 0]\n",
      "Fix [3932, 4080]: 3997=[0, 1, 0, 0, 0, 0, 0]\n",
      "Fix [3932, 4080]: 3998 not change\n",
      "Fix [3932, 4080]: 3999 not change\n",
      "Fix [3932, 4080]: 4000=[0, 1, 0, 0, 0, 0, 0]\n",
      "Fix [3932, 4080]: 4001 not change\n",
      "Fix [3932, 4080]: 4002=[0, 1, 0, 0, 0, 0, 0]\n",
      "Fix [3932, 4080]: 4003 not change\n",
      "Fix [3932, 4080]: 4004 not change\n",
      "Fix [3932, 4080]: 4005 not change\n",
      "Fix [3932, 4080]: 4006 not change\n",
      "Fix [3932, 4080]: 4007 not change\n",
      "Fix [3932, 4080]: 4008 not change\n",
      "Fix [3932, 4080]: 4009 not change\n",
      "Fix [3932, 4080]: 4010=[0, 1, 0, 0, 0, 0, 0]\n",
      "Fix [3932, 4080]: 4011=[0, 1, 0, 0, 0, 0, 0]\n",
      "Fix [3932, 4080]: 4012=[0, 1, 0, 0, 0, 0, 0]\n",
      "Fix [3932, 4080]: 4013=[0, 1, 0, 0, 0, 0, 0]\n",
      "Fix [3932, 4080]: 4014 not change\n",
      "Fix [3932, 4080]: 4015 not change\n",
      "Fix [3932, 4080]: 4016=[0, 1, 0, 0, 0, 0, 0]\n",
      "Fix [3932, 4080]: 4017=[0, 1, 0, 0, 0, 0, 0]\n",
      "Fix [3932, 4080]: 4018=[0, 1, 0, 0, 0, 0, 0]\n",
      "Fix [3932, 4080]: 4019=[0, 1, 0, 0, 0, 0, 0]\n",
      "Fix [3932, 4080]: 4020=[0, 1, 0, 0, 0, 0, 0]\n",
      "Fix [3932, 4080]: 4021=[0, 1, 0, 0, 0, 0, 0]\n",
      "Fix [3932, 4080]: 4022=[0, 1, 0, 0, 0, 0, 0]\n",
      "Fix [3932, 4080]: 4023=[0, 1, 0, 0, 0, 0, 0]\n",
      "Fix [3932, 4080]: 4024=[0, 1, 0, 0, 0, 0, 0]\n",
      "Fix [3932, 4080]: 4025 not change\n",
      "Fix [3932, 4080]: 4026=[0, 1, 0, 0, 0, 0, 0]\n",
      "Fix [3932, 4080]: 4027=[0, 1, 0, 0, 0, 0, 0]\n",
      "Fix [3932, 4080]: 4028=[0, 1, 0, 0, 0, 0, 0]\n",
      "Fix [3932, 4080]: 4029=[0, 1, 0, 0, 0, 0, 0]\n",
      "Fix [3932, 4080]: 4030=[0, 1, 0, 0, 0, 0, 0]\n",
      "Fix [3932, 4080]: 4031=[0, 1, 0, 0, 0, 0, 0]\n",
      "Fix [3932, 4080]: 4032=[0, 1, 0, 0, 0, 0, 0]\n",
      "Fix [3932, 4080]: 4033=[0, 1, 0, 0, 0, 0, 0]\n",
      "Fix [3932, 4080]: 4034=[0, 1, 0, 0, 0, 0, 0]\n",
      "Fix [3932, 4080]: 4035=[0, 1, 0, 0, 0, 0, 0]\n",
      "Fix [3932, 4080]: 4036=[0, 1, 0, 0, 0, 0, 0]\n",
      "Fix [3932, 4080]: 4037=[0, 1, 0, 0, 0, 0, 0]\n",
      "Fix [3932, 4080]: 4038=[0, 1, 0, 0, 0, 0, 0]\n",
      "Fix [3932, 4080]: 4039=[0, 1, 0, 0, 0, 0, 0]\n",
      "Fix [3932, 4080]: 4040=[0, 1, 0, 0, 0, 0, 0]\n",
      "Fix [3932, 4080]: 4041=[0, 1, 0, 0, 0, 0, 0]\n",
      "Fix [3932, 4080]: 4042=[0, 1, 0, 0, 0, 0, 0]\n",
      "Fix [3932, 4080]: 4043=[0, 1, 0, 0, 0, 0, 0]\n",
      "Fix [3932, 4080]: 4044=[0, 1, 0, 0, 0, 0, 0]\n",
      "Fix [3932, 4080]: 4045=[0, 1, 0, 0, 0, 0, 0]\n",
      "Fix [3932, 4080]: 4046=[0, 1, 0, 0, 0, 0, 0]\n",
      "Fix [3932, 4080]: 4047=[0, 1, 0, 0, 0, 0, 0]\n",
      "Fix [3932, 4080]: 4048=[0, 1, 0, 0, 0, 0, 0]\n",
      "Fix [3932, 4080]: 4049=[0, 1, 0, 0, 0, 0, 0]\n",
      "Fix [3932, 4080]: 4050=[0, 1, 0, 0, 0, 0, 0]\n",
      "Fix [3932, 4080]: 4051=[0, 1, 0, 0, 0, 0, 0]\n",
      "Fix [3932, 4080]: 4052=[0, 1, 0, 0, 0, 0, 0]\n",
      "Fix [3932, 4080]: 4053=[0, 1, 0, 0, 0, 0, 0]\n",
      "Fix [3932, 4080]: 4054=[0, 1, 0, 0, 0, 0, 0]\n",
      "Fix [3932, 4080]: 4055=[0, 1, 0, 0, 0, 0, 0]\n",
      "Fix [3932, 4080]: 4056=[0, 1, 0, 0, 0, 0, 0]\n",
      "Fix [3932, 4080]: 4057=[0, 1, 0, 0, 0, 0, 0]\n",
      "Fix [3932, 4080]: 4058=[0, 1, 0, 0, 0, 0, 0]\n",
      "Fix [3932, 4080]: 4059=[0, 1, 0, 0, 0, 0, 0]\n",
      "Fix [3932, 4080]: 4060=[0, 1, 0, 0, 0, 0, 0]\n",
      "Fix [3932, 4080]: 4061=[0, 1, 0, 0, 0, 0, 0]\n",
      "Fix [3932, 4080]: 4062=[0, 1, 0, 0, 0, 0, 0]\n",
      "Fix [3932, 4080]: 4063=[0, 1, 0, 0, 0, 0, 0]\n",
      "Fix [3932, 4080]: 4064=[0, 1, 0, 0, 0, 0, 0]\n",
      "Fix [3932, 4080]: 4065=[0, 1, 0, 0, 0, 0, 0]\n",
      "Fix [3932, 4080]: 4066=[0, 1, 0, 0, 0, 0, 0]\n",
      "Fix [3932, 4080]: 4067=[0, 1, 0, 0, 0, 0, 0]\n",
      "Fix [3932, 4080]: 4068=[0, 1, 0, 0, 0, 0, 0]\n",
      "Fix [3932, 4080]: 4069=[0, 1, 0, 0, 0, 0, 0]\n",
      "Fix [3932, 4080]: 4070=[0, 1, 0, 0, 0, 0, 0]\n",
      "Fix [3932, 4080]: 4071=[0, 1, 0, 0, 0, 0, 0]\n",
      "Fix [3932, 4080]: 4072=[0, 1, 0, 0, 0, 0, 0]\n",
      "Fix [3932, 4080]: 4073=[0, 1, 0, 0, 0, 0, 0]\n",
      "Fix [3932, 4080]: 4074=[0, 1, 0, 0, 0, 0, 0]\n",
      "Fix [3932, 4080]: 4075=[0, 1, 0, 0, 0, 0, 0]\n",
      "Fix [3932, 4080]: 4076=[0, 1, 0, 0, 0, 0, 0]\n",
      "Fix [3932, 4080]: 4077=[0, 1, 0, 0, 0, 0, 0]\n",
      "Fix [3932, 4080]: 4078=[0, 1, 0, 0, 0, 0, 0]\n",
      "Fix [3932, 4080]: 4079 not change\n",
      "Fix [3932, 4080]: 4080 not change\n",
      "Fix [108, 109]: 108=[0, 1, 0, 0, 0, 0, 0]\n",
      "Fix [108, 109]: 109=[0, 1, 0, 0, 0, 0, 0]\n",
      "Fix [1803, 1807]: 1803=[0, 1, 0, 0, 0, 0, 0]\n",
      "Fix [1803, 1807]: 1804=[0, 1, 0, 0, 0, 0, 0]\n",
      "Fix [1803, 1807]: 1805=[0, 1, 0, 0, 0, 0, 0]\n",
      "Fix [1803, 1807]: 1806=[0, 1, 0, 0, 0, 0, 0]\n",
      "Fix [1803, 1807]: 1807=[0, 1, 0, 0, 0, 0, 0]\n",
      "Fix [2085, 2088]: 2085=[0, 1, 0, 0, 0, 0, 0]\n",
      "Fix [2085, 2088]: 2086=[0, 1, 0, 0, 0, 0, 0]\n",
      "Fix [2085, 2088]: 2087=[0, 1, 0, 0, 0, 0, 0]\n",
      "Fix [2085, 2088]: 2088=[0, 1, 0, 0, 0, 0, 0]\n",
      "Fix [3065, 3066]: 3065=[0, 1, 0, 0, 0, 0, 0]\n",
      "Fix [3065, 3066]: 3066=[0, 1, 0, 0, 0, 0, 0]\n",
      "Fix [3158, 3158]: 3158=[0, 1, 0, 0, 0, 0, 0]\n",
      "Fix [3231, 3231]: 3231=[0, 1, 0, 0, 0, 0, 0]\n",
      "Fix [3233, 3234]: 3233=[0, 1, 0, 0, 0, 0, 0]\n",
      "Fix [3233, 3234]: 3234=[0, 1, 0, 0, 0, 0, 0]\n",
      "Fix [3518, 3518]: 3518=[0, 1, 0, 0, 0, 0, 0]\n",
      "Fix [3526, 3526]: 3526=[0, 1, 0, 0, 0, 0, 0]\n",
      "Fix [3924, 3924]: 3924=[0, 1, 0, 0, 0, 0, 0]\n",
      "Fix [3926, 3929]: 3926=[0, 1, 0, 0, 0, 0, 0]\n",
      "Fix [3926, 3929]: 3927=[0, 1, 0, 0, 0, 0, 0]\n",
      "Fix [3926, 3929]: 3928=[0, 1, 0, 0, 0, 0, 0]\n",
      "Fix [3926, 3929]: 3929=[0, 1, 0, 0, 0, 0, 0]\n",
      "Fix [3932, 3932]: 3932 not change\n",
      "Fix [4010, 4013]: 4010 not change\n",
      "Fix [4010, 4013]: 4011 not change\n",
      "Fix [4010, 4013]: 4012 not change\n",
      "Fix [4010, 4013]: 4013 not change\n"
     ]
    },
    {
     "name": "stderr",
     "output_type": "stream",
     "text": [
      "/mnt/data/cwy/ColonoscopyQualityControl/PostProcess.py:26: UserWarning: To copy construct from a tensor, it is recommended to use sourceTensor.clone().detach() or sourceTensor.clone().detach().requires_grad_(True), rather than torch.tensor(sourceTensor).\n",
      "  pred_fix[now_i] = torch.tensor(val_func(pred_origin, item, now_i))\n"
     ]
    }
   ],
   "source": [
    "pred_fix = post_process(pred_labels, outlier_json_path, do_fix_outside, do_fix_nonsense)"
   ],
   "metadata": {
    "collapsed": false,
    "ExecuteTime": {
     "end_time": "2023-11-24T08:25:05.824046800Z",
     "start_time": "2023-11-24T08:25:05.755468Z"
    }
   },
   "id": "ee45ae5319fc9bcc"
  },
  {
   "cell_type": "code",
   "execution_count": 22,
   "outputs": [],
   "source": [
    "pred_labels = pred_fix"
   ],
   "metadata": {
    "collapsed": false,
    "ExecuteTime": {
     "end_time": "2023-11-24T08:25:06.047505400Z",
     "start_time": "2023-11-24T08:25:06.004784900Z"
    }
   },
   "id": "dad1bc5a15608ec2"
  },
  {
   "cell_type": "markdown",
   "source": [
    "# 评估"
   ],
   "metadata": {
    "collapsed": false
   },
   "id": "eefafb130de958f7"
  },
  {
   "cell_type": "code",
   "execution_count": 15,
   "outputs": [],
   "source": [
    "gt_names, gt_labels = read_from_imagenet(gt_path)\n",
    "# gt_labels与pred_labels的每一行是一个长度为7的标签向量，分别对应label_dict的每个类别"
   ],
   "metadata": {
    "collapsed": false,
    "ExecuteTime": {
     "end_time": "2023-11-07T07:44:48.567953900Z",
     "start_time": "2023-11-07T07:44:48.538632500Z"
    }
   },
   "id": "af1fa4053e6dced2"
  },
  {
   "cell_type": "code",
   "execution_count": 16,
   "outputs": [],
   "source": [
    "confuse_matrix = dict()\n",
    "for i in range(3):\n",
    "    confuse_matrix[f'label_{index_label[i]}_TP'] = 0.\n",
    "    confuse_matrix[f'label_{index_label[i]}_FP'] = 0.\n",
    "    confuse_matrix[f'label_{index_label[i]}_FN'] = 0.\n",
    "    confuse_matrix[f'label_{index_label[i]}_TN'] = 0.\n",
    "for i in range(0, 4):  # i: predict\n",
    "    for j in range(0, 4):  # j: gt\n",
    "        confuse_matrix[f'label_cleansing_pred_{index_label[i + 3]}_gt_{index_label[j + 3]}'] = 0."
   ],
   "metadata": {
    "collapsed": false,
    "ExecuteTime": {
     "end_time": "2023-11-07T07:44:48.758524400Z",
     "start_time": "2023-11-07T07:44:48.715615500Z"
    }
   },
   "id": "6bc51339fd1ee2db"
  },
  {
   "cell_type": "code",
   "execution_count": 17,
   "outputs": [],
   "source": [
    "# 计算test_acc\n",
    "mean_acc = float(torch.eq(pred_labels, gt_labels).float().mean().cpu())"
   ],
   "metadata": {
    "collapsed": false,
    "ExecuteTime": {
     "end_time": "2023-11-07T07:44:48.905724100Z",
     "start_time": "2023-11-07T07:44:48.872939600Z"
    }
   },
   "id": "860c50c89e0a63cc"
  },
  {
   "cell_type": "code",
   "execution_count": 18,
   "outputs": [],
   "source": [
    "in_out_labels = pred_labels[:, 0]\n",
    "# 体内外标签: BoolTensor[B]\n",
    "# outside时为True\n",
    "label_in_out_pred = torch.gt(in_out_labels, 0)\n",
    "# 体内外gt: BoolTensor[B]\n",
    "label_in_out_gt = torch.gt(gt_labels[:, 0], 0)\n",
    "confuse_matrix[f'label_{index_label[0]}_TP'] += float((label_in_out_pred & label_in_out_gt).float().sum().cpu())\n",
    "confuse_matrix[f'label_{index_label[0]}_FP'] += float((label_in_out_pred & ~label_in_out_gt).float().sum().cpu())\n",
    "confuse_matrix[f'label_{index_label[0]}_FN'] += float((~label_in_out_pred & label_in_out_gt).float().sum().cpu())\n",
    "confuse_matrix[f'label_{index_label[0]}_TN'] += float((~label_in_out_pred & ~label_in_out_gt).float().sum().cpu())\n"
   ],
   "metadata": {
    "collapsed": false,
    "ExecuteTime": {
     "end_time": "2023-11-07T07:44:49.075031800Z",
     "start_time": "2023-11-07T07:44:49.032613300Z"
    }
   },
   "id": "16454670a54cccb6"
  },
  {
   "cell_type": "code",
   "execution_count": 19,
   "outputs": [],
   "source": [
    "nonsense_logit = pred_labels[:, 1]\n",
    "# 坏帧标签: BoolTensor[B]\n",
    "# nonsense时为True\n",
    "label_nonsense_pred = torch.gt(nonsense_logit, 0)\n",
    "# 帧质量gt: BoolTensor[B]\n",
    "# pred或gt是outside时不计入总数\n",
    "label_nonsense_gt = torch.gt(gt_labels[:, 1], 0)\n",
    "flag = ~label_in_out_pred & ~label_in_out_gt\n",
    "confuse_matrix[f'label_{index_label[1]}_TP'] += float(\n",
    "    (flag & label_nonsense_pred & label_nonsense_gt).float().sum().cpu())\n",
    "confuse_matrix[f'label_{index_label[1]}_FP'] += float(\n",
    "    (flag & label_nonsense_pred & ~label_nonsense_gt).float().sum().cpu())\n",
    "confuse_matrix[f'label_{index_label[1]}_FN'] += float(\n",
    "    (flag & ~label_nonsense_pred & label_nonsense_gt).float().sum().cpu())\n",
    "confuse_matrix[f'label_{index_label[1]}_TN'] += float(\n",
    "    (flag & ~label_nonsense_pred & ~label_nonsense_gt).float().sum().cpu())\n"
   ],
   "metadata": {
    "collapsed": false,
    "ExecuteTime": {
     "end_time": "2023-11-07T07:44:49.559904800Z",
     "start_time": "2023-11-07T07:44:49.554900200Z"
    }
   },
   "id": "ef3ad6045161a753"
  },
  {
   "cell_type": "code",
   "execution_count": 20,
   "outputs": [],
   "source": [
    "ileo_logit = pred_labels[:, 2]\n",
    "# 回盲部标签: BoolTensor[B]\n",
    "label_ileo_pred = torch.gt(ileo_logit, 0)\n",
    "# 回盲部gt: BoolTensor[B]\n",
    "label_ileo_gt = torch.gt(gt_labels[:, 2], 0)\n",
    "flag = ~label_in_out_pred & ~label_in_out_gt & ~label_nonsense_pred & ~label_nonsense_gt\n",
    "confuse_matrix[f'label_{index_label[2]}_TP'] += float((flag & label_ileo_pred & label_ileo_gt).float().sum().cpu())\n",
    "confuse_matrix[f'label_{index_label[2]}_FP'] += float((flag & label_ileo_pred & ~label_ileo_gt).float().sum().cpu())\n",
    "confuse_matrix[f'label_{index_label[2]}_FN'] += float((flag & ~label_ileo_pred & label_ileo_gt).float().sum().cpu())\n",
    "confuse_matrix[f'label_{index_label[2]}_TN'] += float((flag & ~label_ileo_pred & ~label_ileo_gt).float().sum().cpu())"
   ],
   "metadata": {
    "collapsed": false,
    "ExecuteTime": {
     "end_time": "2023-11-07T07:44:49.866035300Z",
     "start_time": "2023-11-07T07:44:49.860018700Z"
    }
   },
   "id": "c139988dff4832cd"
  },
  {
   "cell_type": "code",
   "execution_count": 21,
   "outputs": [],
   "source": [
    "# 清洁度logit: FloatTensor[B, 4]\n",
    "cls_logit = pred_labels[:, 3:]\n",
    "# 清洁度label: IntTensor[B] (取预测值最大的，但会被outside标签抑制)\n",
    "label_cls_pred = torch.argmax(cls_logit, dim=-1)\n",
    "# 清洁度gt: IntTensor[B]\n",
    "label_cls_gt = torch.argmax(gt_labels[:, 3:], dim=-1)\n",
    "flag = ~label_in_out_pred & ~label_in_out_gt & ~label_nonsense_pred & ~label_nonsense_gt\n",
    "for i in range(0, 4):  # i: predict\n",
    "    for j in range(0, 4):  # j: gt\n",
    "        confuse_matrix[f'label_cleansing_pred_{index_label[i + 3]}_gt_{index_label[j + 3]}'] += float((flag & torch.eq(label_cls_pred, i) & torch.eq(label_cls_gt, j)).float().sum().cpu())  # flag用于清洁度标签抑制"
   ],
   "metadata": {
    "collapsed": false,
    "ExecuteTime": {
     "end_time": "2023-11-07T07:44:50.089160Z",
     "start_time": "2023-11-07T07:44:50.080685400Z"
    }
   },
   "id": "2e2c50f40ad8eb87"
  },
  {
   "cell_type": "code",
   "execution_count": 22,
   "outputs": [
    {
     "data": {
      "text/plain": "{'label_outside_TP': 535.0,\n 'label_outside_FP': 0.0,\n 'label_outside_FN': 56.0,\n 'label_outside_TN': 5227.0,\n 'label_nonsense_TP': 1975.0,\n 'label_nonsense_FP': 41.0,\n 'label_nonsense_FN': 151.0,\n 'label_nonsense_TN': 3060.0,\n 'label_ileocecal_TP': 108.0,\n 'label_ileocecal_FP': 6.0,\n 'label_ileocecal_FN': 36.0,\n 'label_ileocecal_TN': 2910.0,\n 'label_cleansing_pred_bbps0_gt_bbps0': 27.0,\n 'label_cleansing_pred_bbps0_gt_bbps1': 7.0,\n 'label_cleansing_pred_bbps0_gt_bbps2': 0.0,\n 'label_cleansing_pred_bbps0_gt_bbps3': 0.0,\n 'label_cleansing_pred_bbps1_gt_bbps0': 14.0,\n 'label_cleansing_pred_bbps1_gt_bbps1': 203.0,\n 'label_cleansing_pred_bbps1_gt_bbps2': 10.0,\n 'label_cleansing_pred_bbps1_gt_bbps3': 0.0,\n 'label_cleansing_pred_bbps2_gt_bbps0': 0.0,\n 'label_cleansing_pred_bbps2_gt_bbps1': 70.0,\n 'label_cleansing_pred_bbps2_gt_bbps2': 856.0,\n 'label_cleansing_pred_bbps2_gt_bbps3': 75.0,\n 'label_cleansing_pred_bbps3_gt_bbps0': 0.0,\n 'label_cleansing_pred_bbps3_gt_bbps1': 3.0,\n 'label_cleansing_pred_bbps3_gt_bbps2': 96.0,\n 'label_cleansing_pred_bbps3_gt_bbps3': 1699.0}"
     },
     "execution_count": 22,
     "metadata": {},
     "output_type": "execute_result"
    }
   ],
   "source": [
    "confuse_matrix"
   ],
   "metadata": {
    "collapsed": false,
    "ExecuteTime": {
     "end_time": "2023-11-07T07:44:50.722863700Z",
     "start_time": "2023-11-07T07:44:50.707762300Z"
    }
   },
   "id": "2a1f6d8877f6b327"
  },
  {
   "cell_type": "code",
   "execution_count": 23,
   "outputs": [],
   "source": [
    "metrics = dict()\n",
    "\n",
    "# 体内外\n",
    "TP: float = confuse_matrix[f'label_{index_label[0]}_TP']\n",
    "FP: float = confuse_matrix[f'label_{index_label[0]}_FP']\n",
    "FN: float = confuse_matrix[f'label_{index_label[0]}_FN']\n",
    "TN: float = confuse_matrix[f'label_{index_label[0]}_TN']\n",
    "metrics[f'label_{index_label[0]}_acc'] = (TP + TN) / (TP + FP + FN + TN) if TP + FP + FN + TN > 0. else 0.\n",
    "\n",
    "# 帧质量\n",
    "TP: float = confuse_matrix[f'label_{index_label[1]}_TP']\n",
    "FP: float = confuse_matrix[f'label_{index_label[1]}_FP']\n",
    "FN: float = confuse_matrix[f'label_{index_label[1]}_FN']\n",
    "TN: float = confuse_matrix[f'label_{index_label[1]}_TN']\n",
    "metrics[f'label_{index_label[1]}_acc'] = (TP + TN) / (TP + FP + FN + TN) if TP + FP + FN + TN > 0. else 0.\n",
    "\n",
    "# 回盲部\n",
    "TP: float = confuse_matrix[f'label_{index_label[2]}_TP']\n",
    "FP: float = confuse_matrix[f'label_{index_label[2]}_FP']\n",
    "FN: float = confuse_matrix[f'label_{index_label[2]}_FN']\n",
    "TN: float = confuse_matrix[f'label_{index_label[2]}_TN']\n",
    "\n",
    "metrics[f'label_{index_label[2]}_acc'] = (TP + TN) / (TP + FP + FN + TN) if TP + FP + FN + TN > 0. else 0.\n",
    "\n",
    "# 四分清洁度准确率\n",
    "total: float = 0.\n",
    "correct: float = 0.\n",
    "for i in range(3, 7):  # i: predict\n",
    "    for j in range(3, 7):  # j: gt\n",
    "        tmp = confuse_matrix[f'label_cleansing_pred_{index_label[i]}_gt_{index_label[j]}']\n",
    "        if i == j:\n",
    "            correct += tmp\n",
    "        total += tmp\n",
    "metrics[f'label_cleansing_acc'] = correct / total if total > 0. else 0."
   ],
   "metadata": {
    "collapsed": false,
    "ExecuteTime": {
     "end_time": "2023-11-07T07:44:52.088689100Z",
     "start_time": "2023-11-07T07:44:52.083552600Z"
    }
   },
   "id": "884a121271e8c3da"
  },
  {
   "cell_type": "code",
   "execution_count": 24,
   "outputs": [
    {
     "data": {
      "text/plain": "0.973284900188446"
     },
     "execution_count": 24,
     "metadata": {},
     "output_type": "execute_result"
    }
   ],
   "source": [
    "mean_acc"
   ],
   "metadata": {
    "collapsed": false,
    "ExecuteTime": {
     "end_time": "2023-11-07T07:44:52.625953700Z",
     "start_time": "2023-11-07T07:44:52.616389500Z"
    }
   },
   "id": "4a1b4b3813f1d1"
  },
  {
   "cell_type": "code",
   "execution_count": 25,
   "outputs": [
    {
     "data": {
      "text/plain": "{'label_outside_acc': 0.9903746992093503,\n 'label_nonsense_acc': 0.9632676487468912,\n 'label_ileocecal_acc': 0.9862745098039216,\n 'label_cleansing_acc': 0.9101307189542484}"
     },
     "execution_count": 25,
     "metadata": {},
     "output_type": "execute_result"
    }
   ],
   "source": [
    "metrics"
   ],
   "metadata": {
    "collapsed": false,
    "ExecuteTime": {
     "end_time": "2023-11-07T07:44:53.110961300Z",
     "start_time": "2023-11-07T07:44:53.096548900Z"
    }
   },
   "id": "14b2dfc2f2320e5f"
  },
  {
   "cell_type": "code",
   "execution_count": 77,
   "outputs": [],
   "source": [
    "for i in range(pred_labels.size()[0]):\n",
    "    if torch.not_equal(pred_labels[i],gt_labels[i]).any():\n",
    "        print(f\"{i}:{pred_labels[i].numpy()} != {gt_labels[i].numpy()}\")"
   ],
   "metadata": {
    "collapsed": false,
    "ExecuteTime": {
     "end_time": "2023-11-06T07:48:01.337189400Z",
     "start_time": "2023-11-06T07:48:01.248591300Z"
    }
   },
   "id": "ab3cfd256299d0f7"
  },
  {
   "cell_type": "markdown",
   "source": [
    "# 可视化"
   ],
   "metadata": {
    "collapsed": false
   },
   "id": "a2958ca4588ecbc8"
  },
  {
   "cell_type": "code",
   "execution_count": 115,
   "outputs": [],
   "source": [
    "import DrawLabelColorBlock\n",
    "import os\n",
    "import os.path as osp\n",
    "import shutil"
   ],
   "metadata": {
    "collapsed": false,
    "ExecuteTime": {
     "end_time": "2023-11-22T07:22:53.818346700Z",
     "start_time": "2023-11-22T07:22:53.818346700Z"
    }
   },
   "id": "ab1c607d2fa4b3a"
  },
  {
   "cell_type": "code",
   "execution_count": 116,
   "outputs": [],
   "source": [
    "frames_pred_root = osp.join(exp_root, 'frames_with_pred')\n",
    "os.makedirs(frames_pred_root, exist_ok=True)\n",
    "frames_ori_path = osp.join(exp_root, 'frames', video)\n",
    "frames_pred_path = osp.join(frames_pred_root, video)\n",
    "if osp.exists(frames_pred_path):\n",
    "    shutil.rmtree(frames_pred_path)\n",
    "os.makedirs(frames_pred_path)"
   ],
   "metadata": {
    "collapsed": false,
    "ExecuteTime": {
     "end_time": "2023-11-22T07:22:53.994975500Z",
     "start_time": "2023-11-22T07:22:53.987226200Z"
    }
   },
   "id": "9c5fc8477cd03906"
  },
  {
   "cell_type": "code",
   "execution_count": 117,
   "outputs": [],
   "source": [
    "for i,pd in enumerate(pred_labels):\n",
    "    ori_img_path = osp.join(frames_ori_path, osp.split(pred_names[i])[-1])\n",
    "    out_img_path = osp.join(frames_pred_path,osp.split(pred_names[i])[-1])\n",
    "    pd_np=pd.numpy()\n",
    "    pd_dict={'outside': False,\n",
    "           'nonsense': False,\n",
    "           'ileocecal': False,\n",
    "           'bbps': -1}\n",
    "    if pd_np[0]==1:\n",
    "        pd_dict['outside']=True\n",
    "    if pd_np[1]==1:\n",
    "        pd_dict['nonsense']=True\n",
    "    if pd_np[2]==1:\n",
    "        pd_dict['ileocecal']=True\n",
    "    if pd_np[3]==1:\n",
    "        pd_dict['bbps']=0\n",
    "    elif pd_np[4]==1:\n",
    "        pd_dict['bbps']=1\n",
    "    elif pd_np[5]==1:\n",
    "        pd_dict['bbps']=2\n",
    "    elif pd_np[6]==1:\n",
    "        pd_dict['bbps']=3\n",
    "    DrawLabelColorBlock.DrawLabelColorBlockOnFrame(ori_img_path,out_img_path,**pd_dict)"
   ],
   "metadata": {
    "collapsed": false,
    "ExecuteTime": {
     "end_time": "2023-11-22T07:39:59.689590700Z",
     "start_time": "2023-11-22T07:22:54.158503900Z"
    }
   },
   "id": "eb11a226e4b78d2a"
  },
  {
   "cell_type": "code",
   "execution_count": 118,
   "outputs": [
    {
     "data": {
      "text/plain": "['000000.png',\n '000001.png',\n '000002.png',\n '000003.png',\n '000004.png',\n '000005.png',\n '000006.png',\n '000007.png',\n '000008.png',\n '000009.png',\n '000010.png',\n '000011.png',\n '000012.png',\n '000013.png',\n '000014.png',\n '000015.png',\n '000016.png',\n '000017.png',\n '000018.png',\n '000019.png',\n '000020.png',\n '000021.png',\n '000022.png',\n '000023.png',\n '000024.png',\n '000025.png',\n '000026.png',\n '000027.png',\n '000028.png',\n '000029.png',\n '000030.png',\n '000031.png',\n '000032.png',\n '000033.png',\n '000034.png',\n '000035.png',\n '000036.png',\n '000037.png',\n '000038.png',\n '000039.png',\n '000040.png',\n '000041.png',\n '000042.png',\n '000043.png',\n '000044.png',\n '000045.png',\n '000046.png',\n '000047.png',\n '000048.png',\n '000049.png',\n '000050.png',\n '000051.png',\n '000052.png',\n '000053.png',\n '000054.png',\n '000055.png',\n '000056.png',\n '000057.png',\n '000058.png',\n '000059.png',\n '000060.png',\n '000061.png',\n '000062.png',\n '000063.png',\n '000064.png',\n '000065.png',\n '000066.png',\n '000067.png',\n '000068.png',\n '000069.png',\n '000070.png',\n '000071.png',\n '000072.png',\n '000073.png',\n '000074.png',\n '000075.png',\n '000076.png',\n '000077.png',\n '000078.png',\n '000079.png',\n '000080.png',\n '000081.png',\n '000082.png',\n '000083.png',\n '000084.png',\n '000085.png',\n '000086.png',\n '000087.png',\n '000088.png',\n '000089.png',\n '000090.png',\n '000091.png',\n '000092.png',\n '000093.png',\n '000094.png',\n '000095.png',\n '000096.png',\n '000097.png',\n '000098.png',\n '000099.png',\n '000100.png',\n '000101.png',\n '000102.png',\n '000103.png',\n '000104.png',\n '000105.png',\n '000106.png',\n '000107.png',\n '000108.png',\n '000109.png',\n '000110.png',\n '000111.png',\n '000112.png',\n '000113.png',\n '000114.png',\n '000115.png',\n '000116.png',\n '000117.png',\n '000118.png',\n '000119.png',\n '000120.png',\n '000121.png',\n '000122.png',\n '000123.png',\n '000124.png',\n '000125.png',\n '000126.png',\n '000127.png',\n '000128.png',\n '000129.png',\n '000130.png',\n '000131.png',\n '000132.png',\n '000133.png',\n '000134.png',\n '000135.png',\n '000136.png',\n '000137.png',\n '000138.png',\n '000139.png',\n '000140.png',\n '000141.png',\n '000142.png',\n '000143.png',\n '000144.png',\n '000145.png',\n '000146.png',\n '000147.png',\n '000148.png',\n '000149.png',\n '000150.png',\n '000151.png',\n '000152.png',\n '000153.png',\n '000154.png',\n '000155.png',\n '000156.png',\n '000157.png',\n '000158.png',\n '000159.png',\n '000160.png',\n '000161.png',\n '000162.png',\n '000163.png',\n '000164.png',\n '000165.png',\n '000166.png',\n '000167.png',\n '000168.png',\n '000169.png',\n '000170.png',\n '000171.png',\n '000172.png',\n '000173.png',\n '000174.png',\n '000175.png',\n '000176.png',\n '000177.png',\n '000178.png',\n '000179.png',\n '000180.png',\n '000181.png',\n '000182.png',\n '000183.png',\n '000184.png',\n '000185.png',\n '000186.png',\n '000187.png',\n '000188.png',\n '000189.png',\n '000190.png',\n '000191.png',\n '000192.png',\n '000193.png',\n '000194.png',\n '000195.png',\n '000196.png',\n '000197.png',\n '000198.png',\n '000199.png',\n '000200.png',\n '000201.png',\n '000202.png',\n '000203.png',\n '000204.png',\n '000205.png',\n '000206.png',\n '000207.png',\n '000208.png',\n '000209.png',\n '000210.png',\n '000211.png',\n '000212.png',\n '000213.png',\n '000214.png',\n '000215.png',\n '000216.png',\n '000217.png',\n '000218.png',\n '000219.png',\n '000220.png',\n '000221.png',\n '000222.png',\n '000223.png',\n '000224.png',\n '000225.png',\n '000226.png',\n '000227.png',\n '000228.png',\n '000229.png',\n '000230.png',\n '000231.png',\n '000232.png',\n '000233.png',\n '000234.png',\n '000235.png',\n '000236.png',\n '000237.png',\n '000238.png',\n '000239.png',\n '000240.png',\n '000241.png',\n '000242.png',\n '000243.png',\n '000244.png',\n '000245.png',\n '000246.png',\n '000247.png',\n '000248.png',\n '000249.png',\n '000250.png',\n '000251.png',\n '000252.png',\n '000253.png',\n '000254.png',\n '000255.png',\n '000256.png',\n '000257.png',\n '000258.png',\n '000259.png',\n '000260.png',\n '000261.png',\n '000262.png',\n '000263.png',\n '000264.png',\n '000265.png',\n '000266.png',\n '000267.png',\n '000268.png',\n '000269.png',\n '000270.png',\n '000271.png',\n '000272.png',\n '000273.png',\n '000274.png',\n '000275.png',\n '000276.png',\n '000277.png',\n '000278.png',\n '000279.png',\n '000280.png',\n '000281.png',\n '000282.png',\n '000283.png',\n '000284.png',\n '000285.png',\n '000286.png',\n '000287.png',\n '000288.png',\n '000289.png',\n '000290.png',\n '000291.png',\n '000292.png',\n '000293.png',\n '000294.png',\n '000295.png',\n '000296.png',\n '000297.png',\n '000298.png',\n '000299.png',\n '000300.png',\n '000301.png',\n '000302.png',\n '000303.png',\n '000304.png',\n '000305.png',\n '000306.png',\n '000307.png',\n '000308.png',\n '000309.png',\n '000310.png',\n '000311.png',\n '000312.png',\n '000313.png',\n '000314.png',\n '000315.png',\n '000316.png',\n '000317.png',\n '000318.png',\n '000319.png',\n '000320.png',\n '000321.png',\n '000322.png',\n '000323.png',\n '000324.png',\n '000325.png',\n '000326.png',\n '000327.png',\n '000328.png',\n '000329.png',\n '000330.png',\n '000331.png',\n '000332.png',\n '000333.png',\n '000334.png',\n '000335.png',\n '000336.png',\n '000337.png',\n '000338.png',\n '000339.png',\n '000340.png',\n '000341.png',\n '000342.png',\n '000343.png',\n '000344.png',\n '000345.png',\n '000346.png',\n '000347.png',\n '000348.png',\n '000349.png',\n '000350.png',\n '000351.png',\n '000352.png',\n '000353.png',\n '000354.png',\n '000355.png',\n '000356.png',\n '000357.png',\n '000358.png',\n '000359.png',\n '000360.png',\n '000361.png',\n '000362.png',\n '000363.png',\n '000364.png',\n '000365.png',\n '000366.png',\n '000367.png',\n '000368.png',\n '000369.png',\n '000370.png',\n '000371.png',\n '000372.png',\n '000373.png',\n '000374.png',\n '000375.png',\n '000376.png',\n '000377.png',\n '000378.png',\n '000379.png',\n '000380.png',\n '000381.png',\n '000382.png',\n '000383.png',\n '000384.png',\n '000385.png',\n '000386.png',\n '000387.png',\n '000388.png',\n '000389.png',\n '000390.png',\n '000391.png',\n '000392.png',\n '000393.png',\n '000394.png',\n '000395.png',\n '000396.png',\n '000397.png',\n '000398.png',\n '000399.png',\n '000400.png',\n '000401.png',\n '000402.png',\n '000403.png',\n '000404.png',\n '000405.png',\n '000406.png',\n '000407.png',\n '000408.png',\n '000409.png',\n '000410.png',\n '000411.png',\n '000412.png',\n '000413.png',\n '000414.png',\n '000415.png',\n '000416.png',\n '000417.png',\n '000418.png',\n '000419.png',\n '000420.png',\n '000421.png',\n '000422.png',\n '000423.png',\n '000424.png',\n '000425.png',\n '000426.png',\n '000427.png',\n '000428.png',\n '000429.png',\n '000430.png',\n '000431.png',\n '000432.png',\n '000433.png',\n '000434.png',\n '000435.png',\n '000436.png',\n '000437.png',\n '000438.png',\n '000439.png',\n '000440.png',\n '000441.png',\n '000442.png',\n '000443.png',\n '000444.png',\n '000445.png',\n '000446.png',\n '000447.png',\n '000448.png',\n '000449.png',\n '000450.png',\n '000451.png',\n '000452.png',\n '000453.png',\n '000454.png',\n '000455.png',\n '000456.png',\n '000457.png',\n '000458.png',\n '000459.png',\n '000460.png',\n '000461.png',\n '000462.png',\n '000463.png',\n '000464.png',\n '000465.png',\n '000466.png',\n '000467.png',\n '000468.png',\n '000469.png',\n '000470.png',\n '000471.png',\n '000472.png',\n '000473.png',\n '000474.png',\n '000475.png',\n '000476.png',\n '000477.png',\n '000478.png',\n '000479.png',\n '000480.png',\n '000481.png',\n '000482.png',\n '000483.png',\n '000484.png',\n '000485.png',\n '000486.png',\n '000487.png',\n '000488.png',\n '000489.png',\n '000490.png',\n '000491.png',\n '000492.png',\n '000493.png',\n '000494.png',\n '000495.png',\n '000496.png',\n '000497.png',\n '000498.png',\n '000499.png',\n '000500.png',\n '000501.png',\n '000502.png',\n '000503.png',\n '000504.png',\n '000505.png',\n '000506.png',\n '000507.png',\n '000508.png',\n '000509.png',\n '000510.png',\n '000511.png',\n '000512.png',\n '000513.png',\n '000514.png',\n '000515.png',\n '000516.png',\n '000517.png',\n '000518.png',\n '000519.png',\n '000520.png',\n '000521.png',\n '000522.png',\n '000523.png',\n '000524.png',\n '000525.png',\n '000526.png',\n '000527.png',\n '000528.png',\n '000529.png',\n '000530.png',\n '000531.png',\n '000532.png',\n '000533.png',\n '000534.png',\n '000535.png',\n '000536.png',\n '000537.png',\n '000538.png',\n '000539.png',\n '000540.png',\n '000541.png',\n '000542.png',\n '000543.png',\n '000544.png',\n '000545.png',\n '000546.png',\n '000547.png',\n '000548.png',\n '000549.png',\n '000550.png',\n '000551.png',\n '000552.png',\n '000553.png',\n '000554.png',\n '000555.png',\n '000556.png',\n '000557.png',\n '000558.png',\n '000559.png',\n '000560.png',\n '000561.png',\n '000562.png',\n '000563.png',\n '000564.png',\n '000565.png',\n '000566.png',\n '000567.png',\n '000568.png',\n '000569.png',\n '000570.png',\n '000571.png',\n '000572.png',\n '000573.png',\n '000574.png',\n '000575.png',\n '000576.png',\n '000577.png',\n '000578.png',\n '000579.png',\n '000580.png',\n '000581.png',\n '000582.png',\n '000583.png',\n '000584.png',\n '000585.png',\n '000586.png',\n '000587.png',\n '000588.png',\n '000589.png',\n '000590.png',\n '000591.png',\n '000592.png',\n '000593.png',\n '000594.png',\n '000595.png',\n '000596.png',\n '000597.png',\n '000598.png',\n '000599.png',\n '000600.png',\n '000601.png',\n '000602.png',\n '000603.png',\n '000604.png',\n '000605.png',\n '000606.png',\n '000607.png',\n '000608.png',\n '000609.png',\n '000610.png',\n '000611.png',\n '000612.png',\n '000613.png',\n '000614.png',\n '000615.png',\n '000616.png',\n '000617.png',\n '000618.png',\n '000619.png',\n '000620.png',\n '000621.png',\n '000622.png',\n '000623.png',\n '000624.png',\n '000625.png',\n '000626.png',\n '000627.png',\n '000628.png',\n '000629.png',\n '000630.png',\n '000631.png',\n '000632.png',\n '000633.png',\n '000634.png',\n '000635.png',\n '000636.png',\n '000637.png',\n '000638.png',\n '000639.png',\n '000640.png',\n '000641.png',\n '000642.png',\n '000643.png',\n '000644.png',\n '000645.png',\n '000646.png',\n '000647.png',\n '000648.png',\n '000649.png',\n '000650.png',\n '000651.png',\n '000652.png',\n '000653.png',\n '000654.png',\n '000655.png',\n '000656.png',\n '000657.png',\n '000658.png',\n '000659.png',\n '000660.png',\n '000661.png',\n '000662.png',\n '000663.png',\n '000664.png',\n '000665.png',\n '000666.png',\n '000667.png',\n '000668.png',\n '000669.png',\n '000670.png',\n '000671.png',\n '000672.png',\n '000673.png',\n '000674.png',\n '000675.png',\n '000676.png',\n '000677.png',\n '000678.png',\n '000679.png',\n '000680.png',\n '000681.png',\n '000682.png',\n '000683.png',\n '000684.png',\n '000685.png',\n '000686.png',\n '000687.png',\n '000688.png',\n '000689.png',\n '000690.png',\n '000691.png',\n '000692.png',\n '000693.png',\n '000694.png',\n '000695.png',\n '000696.png',\n '000697.png',\n '000698.png',\n '000699.png',\n '000700.png',\n '000701.png',\n '000702.png',\n '000703.png',\n '000704.png',\n '000705.png',\n '000706.png',\n '000707.png',\n '000708.png',\n '000709.png',\n '000710.png',\n '000711.png',\n '000712.png',\n '000713.png',\n '000714.png',\n '000715.png',\n '000716.png',\n '000717.png',\n '000718.png',\n '000719.png',\n '000720.png',\n '000721.png',\n '000722.png',\n '000723.png',\n '000724.png',\n '000725.png',\n '000726.png',\n '000727.png',\n '000728.png',\n '000729.png',\n '000730.png',\n '000731.png',\n '000732.png',\n '000733.png',\n '000734.png',\n '000735.png',\n '000736.png',\n '000737.png',\n '000738.png',\n '000739.png',\n '000740.png',\n '000741.png',\n '000742.png',\n '000743.png',\n '000744.png',\n '000745.png',\n '000746.png',\n '000747.png',\n '000748.png',\n '000749.png',\n '000750.png',\n '000751.png',\n '000752.png',\n '000753.png',\n '000754.png',\n '000755.png',\n '000756.png',\n '000757.png',\n '000758.png',\n '000759.png',\n '000760.png',\n '000761.png',\n '000762.png',\n '000763.png',\n '000764.png',\n '000765.png',\n '000766.png',\n '000767.png',\n '000768.png',\n '000769.png',\n '000770.png',\n '000771.png',\n '000772.png',\n '000773.png',\n '000774.png',\n '000775.png',\n '000776.png',\n '000777.png',\n '000778.png',\n '000779.png',\n '000780.png',\n '000781.png',\n '000782.png',\n '000783.png',\n '000784.png',\n '000785.png',\n '000786.png',\n '000787.png',\n '000788.png',\n '000789.png',\n '000790.png',\n '000791.png',\n '000792.png',\n '000793.png',\n '000794.png',\n '000795.png',\n '000796.png',\n '000797.png',\n '000798.png',\n '000799.png',\n '000800.png',\n '000801.png',\n '000802.png',\n '000803.png',\n '000804.png',\n '000805.png',\n '000806.png',\n '000807.png',\n '000808.png',\n '000809.png',\n '000810.png',\n '000811.png',\n '000812.png',\n '000813.png',\n '000814.png',\n '000815.png',\n '000816.png',\n '000817.png',\n '000818.png',\n '000819.png',\n '000820.png',\n '000821.png',\n '000822.png',\n '000823.png',\n '000824.png',\n '000825.png',\n '000826.png',\n '000827.png',\n '000828.png',\n '000829.png',\n '000830.png',\n '000831.png',\n '000832.png',\n '000833.png',\n '000834.png',\n '000835.png',\n '000836.png',\n '000837.png',\n '000838.png',\n '000839.png',\n '000840.png',\n '000841.png',\n '000842.png',\n '000843.png',\n '000844.png',\n '000845.png',\n '000846.png',\n '000847.png',\n '000848.png',\n '000849.png',\n '000850.png',\n '000851.png',\n '000852.png',\n '000853.png',\n '000854.png',\n '000855.png',\n '000856.png',\n '000857.png',\n '000858.png',\n '000859.png',\n '000860.png',\n '000861.png',\n '000862.png',\n '000863.png',\n '000864.png',\n '000865.png',\n '000866.png',\n '000867.png',\n '000868.png',\n '000869.png',\n '000870.png',\n '000871.png',\n '000872.png',\n '000873.png',\n '000874.png',\n '000875.png',\n '000876.png',\n '000877.png',\n '000878.png',\n '000879.png',\n '000880.png',\n '000881.png',\n '000882.png',\n '000883.png',\n '000884.png',\n '000885.png',\n '000886.png',\n '000887.png',\n '000888.png',\n '000889.png',\n '000890.png',\n '000891.png',\n '000892.png',\n '000893.png',\n '000894.png',\n '000895.png',\n '000896.png',\n '000897.png',\n '000898.png',\n '000899.png',\n '000900.png',\n '000901.png',\n '000902.png',\n '000903.png',\n '000904.png',\n '000905.png',\n '000906.png',\n '000907.png',\n '000908.png',\n '000909.png',\n '000910.png',\n '000911.png',\n '000912.png',\n '000913.png',\n '000914.png',\n '000915.png',\n '000916.png',\n '000917.png',\n '000918.png',\n '000919.png',\n '000920.png',\n '000921.png',\n '000922.png',\n '000923.png',\n '000924.png',\n '000925.png',\n '000926.png',\n '000927.png',\n '000928.png',\n '000929.png',\n '000930.png',\n '000931.png',\n '000932.png',\n '000933.png',\n '000934.png',\n '000935.png',\n '000936.png',\n '000937.png',\n '000938.png',\n '000939.png',\n '000940.png',\n '000941.png',\n '000942.png',\n '000943.png',\n '000944.png',\n '000945.png',\n '000946.png',\n '000947.png',\n '000948.png',\n '000949.png',\n '000950.png',\n '000951.png',\n '000952.png',\n '000953.png',\n '000954.png',\n '000955.png',\n '000956.png',\n '000957.png',\n '000958.png',\n '000959.png',\n '000960.png',\n '000961.png',\n '000962.png',\n '000963.png',\n '000964.png',\n '000965.png',\n '000966.png',\n '000967.png',\n '000968.png',\n '000969.png',\n '000970.png',\n '000971.png',\n '000972.png',\n '000973.png',\n '000974.png',\n '000975.png',\n '000976.png',\n '000977.png',\n '000978.png',\n '000979.png',\n '000980.png',\n '000981.png',\n '000982.png',\n '000983.png',\n '000984.png',\n '000985.png',\n '000986.png',\n '000987.png',\n '000988.png',\n '000989.png',\n '000990.png',\n '000991.png',\n '000992.png',\n '000993.png',\n '000994.png',\n '000995.png',\n '000996.png',\n '000997.png',\n '000998.png',\n '000999.png',\n ...]"
     },
     "execution_count": 118,
     "metadata": {},
     "output_type": "execute_result"
    }
   ],
   "source": [
    "# 把帧拼成视频\n",
    "img_list = os.listdir(frames_pred_path)\n",
    "img_list.sort(key=lambda x: int(x.split('.')[0]))\n",
    "img_list"
   ],
   "metadata": {
    "collapsed": false,
    "ExecuteTime": {
     "end_time": "2023-11-22T07:39:59.744681300Z",
     "start_time": "2023-11-22T07:39:59.689590700Z"
    }
   },
   "id": "a58368325d98a17b"
  },
  {
   "cell_type": "code",
   "execution_count": 119,
   "outputs": [],
   "source": [
    "video_pred_root = osp.join(exp_root, 'videos_with_pred')\n",
    "os.makedirs(video_pred_root, exist_ok=True)"
   ],
   "metadata": {
    "collapsed": false,
    "ExecuteTime": {
     "end_time": "2023-11-22T07:39:59.804854300Z",
     "start_time": "2023-11-22T07:39:59.736469200Z"
    }
   },
   "id": "14704d480694638"
  },
  {
   "cell_type": "code",
   "execution_count": 120,
   "outputs": [],
   "source": [
    "import cv2\n",
    "# cv2\n",
    "img = cv2.imread(osp.join(frames_pred_path, img_list[0]))\n",
    "height, width, layers = img.shape\n",
    "\n",
    "fourcc = cv2.VideoWriter_fourcc(*'mp4v')\n",
    "video = cv2.VideoWriter(osp.join(video_pred_root, f'{video}.mp4'), fourcc, 12.5, (width, height))\n",
    "\n",
    "for img_name in img_list:\n",
    "    img = cv2.imread(osp.join(frames_pred_path, img_name))\n",
    "    video.write(img)\n",
    "    \n",
    "cv2.destroyAllWindows()\n",
    "video.release()"
   ],
   "metadata": {
    "collapsed": false,
    "ExecuteTime": {
     "end_time": "2023-11-22T07:42:17.277091300Z",
     "start_time": "2023-11-22T07:39:59.773994400Z"
    }
   },
   "id": "8ab819849f51b2c7"
  },
  {
   "cell_type": "code",
   "execution_count": null,
   "outputs": [],
   "source": [
    " "
   ],
   "metadata": {
    "collapsed": false
   },
   "id": "d1654ecd4ec34337"
  }
 ],
 "metadata": {
  "kernelspec": {
   "display_name": "Python 3",
   "language": "python",
   "name": "python3"
  },
  "language_info": {
   "codemirror_mode": {
    "name": "ipython",
    "version": 2
   },
   "file_extension": ".py",
   "mimetype": "text/x-python",
   "name": "python",
   "nbconvert_exporter": "python",
   "pygments_lexer": "ipython2",
   "version": "2.7.6"
  }
 },
 "nbformat": 4,
 "nbformat_minor": 5
}
