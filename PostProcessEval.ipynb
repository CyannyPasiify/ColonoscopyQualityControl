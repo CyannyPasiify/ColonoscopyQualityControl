{
 "cells": [
  {
   "cell_type": "code",
   "execution_count": 1,
   "id": "initial_id",
   "metadata": {
    "collapsed": true,
    "ExecuteTime": {
     "end_time": "2023-11-07T07:44:44.315971300Z",
     "start_time": "2023-11-07T07:44:42.602770600Z"
    }
   },
   "outputs": [],
   "source": [
    "import os.path as osp\n",
    "from PostProcess import *"
   ]
  },
  {
   "cell_type": "code",
   "execution_count": 2,
   "outputs": [],
   "source": [
    "video = 'CB(C)20230531_10fps'"
   ],
   "metadata": {
    "collapsed": false,
    "ExecuteTime": {
     "end_time": "2023-11-07T07:44:44.322489600Z",
     "start_time": "2023-11-07T07:44:44.318478500Z"
    }
   },
   "id": "29c5e065c0f7729f"
  },
  {
   "cell_type": "code",
   "execution_count": 3,
   "outputs": [],
   "source": [
    "index_label = {\n",
    "    0: 'outside',\n",
    "    1: 'nonsense',\n",
    "    2: 'ileocecal',\n",
    "    3: 'bbps0',\n",
    "    4: 'bbps1',\n",
    "    5: 'bbps2',\n",
    "    6: 'bbps3',\n",
    "}"
   ],
   "metadata": {
    "collapsed": false,
    "ExecuteTime": {
     "end_time": "2023-11-07T07:44:44.417734900Z",
     "start_time": "2023-11-07T07:44:44.323491700Z"
    }
   },
   "id": "a96993fa993b8048"
  },
  {
   "cell_type": "code",
   "execution_count": 4,
   "outputs": [],
   "source": [
    "do_fix_outside = True\n",
    "do_fix_nonsense = True"
   ],
   "metadata": {
    "collapsed": false,
    "ExecuteTime": {
     "end_time": "2023-11-07T07:44:44.429116Z",
     "start_time": "2023-11-07T07:44:44.421743400Z"
    }
   },
   "id": "bd2aa37e1d38c840"
  },
  {
   "cell_type": "code",
   "execution_count": 5,
   "outputs": [],
   "source": [
    "exp_root = '/mnt/data/cwy/ColonoscopyQualityControl/Experiment/R10001_detect_fps_vitp14s336c7'\n",
    "#exp_root = '/mnt/data/cwy/ColonoscopyQualityControl/Experiment/SingleTask_VGG19'"
   ],
   "metadata": {
    "collapsed": false,
    "ExecuteTime": {
     "end_time": "2023-11-07T07:44:44.438966500Z",
     "start_time": "2023-11-07T07:44:44.433286900Z"
    }
   },
   "id": "be51740081d1c014"
  },
  {
   "cell_type": "code",
   "execution_count": 6,
   "outputs": [],
   "source": [
    "pred_json_root = osp.join(exp_root, 'predicts', video)\n",
    "pred_json_path = osp.join(pred_json_root, 'predict_result.json')\n",
    "#pred_json_root = '/mnt/data/cwy/ColonoscopyQualityControl/Experiment/SingleTask_VGG19'\n",
    "#pred_json_path = '/mnt/data/cwy/ColonoscopyQualityControl/Experiment/SingleTask_VGG19/pred_merged_result.json'"
   ],
   "metadata": {
    "collapsed": false,
    "ExecuteTime": {
     "end_time": "2023-11-07T07:44:44.483201100Z",
     "start_time": "2023-11-07T07:44:44.439969300Z"
    }
   },
   "id": "ec2d7ad46d4502fa"
  },
  {
   "cell_type": "code",
   "execution_count": 7,
   "outputs": [],
   "source": [
    "outlier_json_root = osp.join(exp_root, 'outliers', video)\n",
    "outlier_json_path = osp.join(outlier_json_root,'outlier_result.json')\n",
    "#outlier_json_root = '/mnt/data/cwy/ColonoscopyQualityControl/Experiment/R1001_detect_SingleTask_VGG19/outliers/SingleTask_VGG19'\n",
    "#outlier_json_path = '/mnt/data/cwy/ColonoscopyQualityControl/Experiment/R1001_detect_SingleTask_VGG19/outliers/SingleTask_VGG19/outlier_result.json'"
   ],
   "metadata": {
    "collapsed": false,
    "ExecuteTime": {
     "end_time": "2023-11-07T07:44:44.483201100Z",
     "start_time": "2023-11-07T07:44:44.483201100Z"
    }
   },
   "id": "1c1804a21fc0082d"
  },
  {
   "cell_type": "code",
   "execution_count": 8,
   "outputs": [],
   "source": [
    "d = json.load(open(pred_json_path, 'r'))\n",
    "with open(osp.join(pred_json_root, 'pred.txt'),'w') as f:\n",
    "    for k, v in d.items():\n",
    "        print(f\"{video}/\"+k,file=f,end=' ')\n",
    "        res = []\n",
    "        if v[0] == 1: res.append(4)\n",
    "        if v[1] == 1: res.append(5)\n",
    "        if v[2] == 1: res.append(6)\n",
    "        if v[3] == 1: res.append(0)\n",
    "        if v[4] == 1: res.append(1)\n",
    "        if v[5] == 1: res.append(2)\n",
    "        if v[6] == 1: res.append(3)\n",
    "        sorted(res,reverse=False)\n",
    "        for it in res:\n",
    "            print(it,file=f,end=' ')\n",
    "        f.write('\\n')"
   ],
   "metadata": {
    "collapsed": false,
    "ExecuteTime": {
     "end_time": "2023-11-07T07:44:44.541341200Z",
     "start_time": "2023-11-07T07:44:44.483201100Z"
    }
   },
   "id": "fe0cf64ec3c478e9"
  },
  {
   "cell_type": "code",
   "execution_count": 9,
   "outputs": [],
   "source": [
    "gt_path = osp.join(pred_json_root, 'gt.txt')\n",
    "pred_path = osp.join(pred_json_root, 'pred.txt')"
   ],
   "metadata": {
    "collapsed": false,
    "ExecuteTime": {
     "end_time": "2023-11-07T07:44:44.541341200Z",
     "start_time": "2023-11-07T07:44:44.520287100Z"
    }
   },
   "id": "68b24a64148cb470"
  },
  {
   "cell_type": "code",
   "execution_count": 10,
   "outputs": [],
   "source": [
    "def read_from_imagenet(txt_path: str):\n",
    "    name_all = []\n",
    "    label_all = []\n",
    "    with open(txt_path, 'r') as f:\n",
    "        lines = f.readlines()\n",
    "    for line in lines:\n",
    "        # 0位置是图片名\n",
    "        line = line.strip()\n",
    "        name = line.split(' ')[0]\n",
    "        name_all.append(name)\n",
    "        try:\n",
    "            labels = [int(x)-1 for x in line.split(' ')[1:]]\n",
    "        except ValueError:\n",
    "            print(line)\n",
    "            raise\n",
    "        label_list = [0, 0, 0, 0, 0, 0, 0]\n",
    "        for label in labels:\n",
    "            label_list[label] = 1\n",
    "        # 把后面4个bbps标签移动到最前面\n",
    "        label_list = label_list[3:] + label_list[:3]\n",
    "        label_all.append(label_list)\n",
    "\n",
    "    return name_all, torch.tensor(label_all)"
   ],
   "metadata": {
    "collapsed": false,
    "ExecuteTime": {
     "end_time": "2023-11-07T07:44:44.542343800Z",
     "start_time": "2023-11-07T07:44:44.535325300Z"
    }
   },
   "id": "4883fa77f565eb13"
  },
  {
   "cell_type": "code",
   "execution_count": 11,
   "outputs": [],
   "source": [
    "pred_names, pred_labels = read_from_imagenet(pred_path)\n",
    "# gt_labels与pred_labels的每一行是一个长度为7的标签向量，分别对应label_dict的每个类别"
   ],
   "metadata": {
    "collapsed": false,
    "ExecuteTime": {
     "end_time": "2023-11-07T07:44:45.256091700Z",
     "start_time": "2023-11-07T07:44:45.239202400Z"
    }
   },
   "id": "388086404d1c52da"
  },
  {
   "cell_type": "code",
   "execution_count": 12,
   "outputs": [],
   "source": [
    "pred_ori = pred_labels.clone().detach()"
   ],
   "metadata": {
    "collapsed": false,
    "ExecuteTime": {
     "end_time": "2023-11-07T07:44:45.908151100Z",
     "start_time": "2023-11-07T07:44:45.878100Z"
    }
   },
   "id": "7d8257a86456b0f6"
  },
  {
   "cell_type": "code",
   "execution_count": 13,
   "outputs": [
    {
     "name": "stdout",
     "output_type": "stream",
     "text": [
      "Fix [367, 367]: 367=[0, 1, 0, 0, 0, 0, 0]\n",
      "Fix [592, 593]: 592=[0, 1, 0, 0, 0, 0, 0]\n",
      "Fix [592, 593]: 593=[0, 1, 0, 0, 0, 0, 0]\n",
      "Fix [1465, 1466]: 1465=[0, 1, 0, 0, 0, 0, 0]\n",
      "Fix [1465, 1466]: 1466=[0, 1, 0, 0, 0, 0, 0]\n",
      "Fix [2042, 2042]: 2042=[0, 1, 0, 0, 0, 0, 0]\n",
      "Fix [2196, 2196]: 2196=[0, 1, 0, 0, 0, 0, 0]\n",
      "Fix [3795, 3795]: 3795=[0, 1, 0, 0, 0, 0, 0]\n",
      "Fix [3849, 3856]: 3849=[0, 1, 0, 0, 0, 0, 0]\n",
      "Fix [3849, 3856]: 3850=[0, 1, 0, 0, 0, 0, 0]\n",
      "Fix [3849, 3856]: 3851 not change\n",
      "Fix [3849, 3856]: 3852 not change\n",
      "Fix [3849, 3856]: 3853 not change\n",
      "Fix [3849, 3856]: 3854 not change\n",
      "Fix [3849, 3856]: 3855 not change\n",
      "Fix [3849, 3856]: 3856=[0, 1, 0, 0, 0, 0, 0]\n",
      "Fix [5009, 5009]: 5009=[0, 1, 0, 0, 0, 0, 0]\n",
      "Fix [5456, 5502]: 5456=[0, 1, 0, 0, 0, 0, 0]\n",
      "Fix [5456, 5502]: 5457 not change\n",
      "Fix [5456, 5502]: 5458=[0, 1, 0, 0, 0, 0, 0]\n",
      "Fix [5456, 5502]: 5459 not change\n",
      "Fix [5456, 5502]: 5460=[0, 1, 0, 0, 0, 0, 0]\n",
      "Fix [5456, 5502]: 5461=[0, 1, 0, 0, 0, 0, 0]\n",
      "Fix [5456, 5502]: 5462=[0, 1, 0, 0, 0, 0, 0]\n",
      "Fix [5456, 5502]: 5463=[0, 1, 0, 0, 0, 0, 0]\n",
      "Fix [5456, 5502]: 5464=[0, 1, 0, 0, 0, 0, 0]\n",
      "Fix [5456, 5502]: 5465=[0, 1, 0, 0, 0, 0, 0]\n",
      "Fix [5456, 5502]: 5466=[0, 1, 0, 0, 0, 0, 0]\n",
      "Fix [5456, 5502]: 5467=[0, 1, 0, 0, 0, 0, 0]\n",
      "Fix [5456, 5502]: 5468=[0, 1, 0, 0, 0, 0, 0]\n",
      "Fix [5456, 5502]: 5469=[0, 1, 0, 0, 0, 0, 0]\n",
      "Fix [5456, 5502]: 5470=[0, 1, 0, 0, 0, 0, 0]\n",
      "Fix [5456, 5502]: 5471=[0, 1, 0, 0, 0, 0, 0]\n",
      "Fix [5456, 5502]: 5472=[0, 1, 0, 0, 0, 0, 0]\n",
      "Fix [5456, 5502]: 5473=[0, 1, 0, 0, 0, 0, 0]\n",
      "Fix [5456, 5502]: 5474=[0, 1, 0, 0, 0, 0, 0]\n",
      "Fix [5456, 5502]: 5475=[0, 1, 0, 0, 0, 0, 0]\n",
      "Fix [5456, 5502]: 5476=[0, 1, 0, 0, 0, 0, 0]\n",
      "Fix [5456, 5502]: 5477=[0, 1, 0, 0, 0, 0, 0]\n",
      "Fix [5456, 5502]: 5478=[0, 1, 0, 0, 0, 0, 0]\n",
      "Fix [5456, 5502]: 5479=[0, 1, 0, 0, 0, 0, 0]\n",
      "Fix [5456, 5502]: 5480=[0, 1, 0, 0, 0, 0, 0]\n",
      "Fix [5456, 5502]: 5481=[0, 1, 0, 0, 0, 0, 0]\n",
      "Fix [5456, 5502]: 5482=[0, 1, 0, 0, 0, 0, 0]\n",
      "Fix [5456, 5502]: 5483=[0, 1, 0, 0, 0, 0, 0]\n",
      "Fix [5456, 5502]: 5484=[0, 1, 0, 0, 0, 0, 0]\n",
      "Fix [5456, 5502]: 5485=[0, 1, 0, 0, 0, 0, 0]\n",
      "Fix [5456, 5502]: 5486=[0, 1, 0, 0, 0, 0, 0]\n",
      "Fix [5456, 5502]: 5487=[0, 1, 0, 0, 0, 0, 0]\n",
      "Fix [5456, 5502]: 5488=[0, 1, 0, 0, 0, 0, 0]\n",
      "Fix [5456, 5502]: 5489=[0, 1, 0, 0, 0, 0, 0]\n",
      "Fix [5456, 5502]: 5490=[0, 1, 0, 0, 0, 0, 0]\n",
      "Fix [5456, 5502]: 5491=[0, 1, 0, 0, 0, 0, 0]\n",
      "Fix [5456, 5502]: 5492=[0, 1, 0, 0, 0, 0, 0]\n",
      "Fix [5456, 5502]: 5493=[0, 1, 0, 0, 0, 0, 0]\n",
      "Fix [5456, 5502]: 5494=[0, 1, 0, 0, 0, 0, 0]\n",
      "Fix [5456, 5502]: 5495=[0, 1, 0, 0, 0, 0, 0]\n",
      "Fix [5456, 5502]: 5496=[0, 1, 0, 0, 0, 0, 0]\n",
      "Fix [5456, 5502]: 5497=[0, 1, 0, 0, 0, 0, 0]\n",
      "Fix [5456, 5502]: 5498=[0, 1, 0, 0, 0, 0, 0]\n",
      "Fix [5456, 5502]: 5499=[0, 1, 0, 0, 0, 0, 0]\n",
      "Fix [5456, 5502]: 5500=[0, 1, 0, 0, 0, 0, 0]\n",
      "Fix [5456, 5502]: 5501=[0, 1, 0, 0, 0, 0, 0]\n",
      "Fix [5456, 5502]: 5502 not change\n",
      "Fix [5595, 5595]: 5595 not change\n",
      "Fix [5774, 5784]: 5774 not change\n",
      "Fix [5774, 5784]: 5775=[1, 0, 0, 0, 0, 0, 0]\n",
      "Fix [5774, 5784]: 5776 not change\n",
      "Fix [5774, 5784]: 5777 not change\n",
      "Fix [5774, 5784]: 5778 not change\n",
      "Fix [5774, 5784]: 5779 not change\n",
      "Fix [5774, 5784]: 5780 not change\n",
      "Fix [5774, 5784]: 5781 not change\n",
      "Fix [5774, 5784]: 5782 not change\n",
      "Fix [5774, 5784]: 5783 not change\n",
      "Fix [5774, 5784]: 5784=[1, 0, 0, 0, 0, 0, 0]\n",
      "Fix [321, 322]: 321=[0, 1, 0, 0, 0, 0, 0]\n",
      "Fix [321, 322]: 322=[0, 1, 0, 0, 0, 0, 0]\n",
      "Fix [348, 348]: 348=[0, 1, 0, 0, 0, 0, 0]\n",
      "Fix [365, 367]: 365=[0, 1, 0, 0, 0, 0, 0]\n",
      "Fix [365, 367]: 366=[0, 1, 0, 0, 0, 0, 0]\n",
      "Fix [365, 367]: 367 not change\n",
      "Fix [562, 563]: 562=[0, 1, 0, 0, 0, 0, 0]\n",
      "Fix [562, 563]: 563=[0, 1, 0, 0, 0, 0, 0]\n",
      "Fix [748, 748]: 748=[0, 1, 0, 0, 0, 0, 0]\n",
      "Fix [849, 849]: 849=[0, 1, 0, 0, 0, 0, 0]\n",
      "Fix [855, 856]: 855=[0, 1, 0, 0, 0, 0, 0]\n",
      "Fix [855, 856]: 856=[0, 1, 0, 0, 0, 0, 0]\n",
      "Fix [885, 886]: 885=[0, 1, 0, 0, 0, 0, 0]\n",
      "Fix [885, 886]: 886=[0, 1, 0, 0, 0, 0, 0]\n",
      "Fix [905, 905]: 905=[0, 1, 0, 0, 0, 0, 0]\n",
      "Fix [907, 907]: 907=[0, 1, 0, 0, 0, 0, 0]\n",
      "Fix [947, 947]: 947=[0, 1, 0, 0, 0, 0, 0]\n",
      "Fix [955, 955]: 955=[0, 1, 0, 0, 0, 0, 0]\n",
      "Fix [1130, 1131]: 1130=[0, 1, 0, 0, 0, 0, 0]\n",
      "Fix [1130, 1131]: 1131=[0, 1, 0, 0, 0, 0, 0]\n",
      "Fix [1137, 1138]: 1137=[0, 1, 0, 0, 0, 0, 0]\n",
      "Fix [1137, 1138]: 1138=[0, 1, 0, 0, 0, 0, 0]\n",
      "Fix [1169, 1171]: 1169=[0, 1, 0, 0, 0, 0, 0]\n",
      "Fix [1169, 1171]: 1170=[0, 1, 0, 0, 0, 0, 0]\n",
      "Fix [1169, 1171]: 1171=[0, 1, 0, 0, 0, 0, 0]\n",
      "Fix [1180, 1180]: 1180=[0, 1, 0, 0, 0, 0, 0]\n",
      "Fix [1199, 1201]: 1199=[0, 1, 0, 0, 0, 0, 0]\n",
      "Fix [1199, 1201]: 1200=[0, 1, 0, 0, 0, 0, 0]\n",
      "Fix [1199, 1201]: 1201=[0, 1, 0, 0, 0, 0, 0]\n",
      "Fix [1207, 1207]: 1207=[0, 1, 0, 0, 0, 0, 0]\n",
      "Fix [1227, 1227]: 1227=[0, 1, 0, 0, 0, 0, 0]\n",
      "Fix [1237, 1237]: 1237=[0, 1, 0, 0, 0, 0, 0]\n",
      "Fix [1249, 1249]: 1249=[0, 1, 0, 0, 0, 0, 0]\n",
      "Fix [1369, 1369]: 1369=[0, 1, 0, 0, 0, 0, 0]\n",
      "Fix [1607, 1607]: 1607=[0, 1, 0, 0, 0, 0, 0]\n",
      "Fix [1610, 1610]: 1610=[0, 1, 0, 0, 0, 0, 0]\n",
      "Fix [1702, 1702]: 1702=[0, 1, 0, 0, 0, 0, 0]\n",
      "Fix [1704, 1704]: 1704=[0, 1, 0, 0, 0, 0, 0]\n",
      "Fix [1706, 1707]: 1706=[0, 1, 0, 0, 0, 0, 0]\n",
      "Fix [1706, 1707]: 1707=[0, 1, 0, 0, 0, 0, 0]\n",
      "Fix [1735, 1735]: 1735=[0, 1, 0, 0, 0, 0, 0]\n",
      "Fix [1811, 1811]: 1811=[0, 1, 0, 0, 0, 0, 0]\n",
      "Fix [1819, 1820]: 1819=[0, 1, 0, 0, 0, 0, 0]\n",
      "Fix [1819, 1820]: 1820=[0, 1, 0, 0, 0, 0, 0]\n",
      "Fix [1828, 1828]: 1828=[0, 1, 0, 0, 0, 0, 0]\n",
      "Fix [1848, 1849]: 1848=[0, 1, 0, 0, 0, 0, 0]\n",
      "Fix [1848, 1849]: 1849=[0, 1, 0, 0, 0, 0, 0]\n",
      "Fix [1855, 1856]: 1855=[0, 1, 0, 0, 0, 0, 0]\n",
      "Fix [1855, 1856]: 1856=[0, 1, 0, 0, 0, 0, 0]\n",
      "Fix [1979, 1979]: 1979=[0, 1, 0, 0, 0, 0, 0]\n",
      "Fix [2017, 2017]: 2017=[0, 1, 0, 0, 0, 0, 0]\n",
      "Fix [2042, 2042]: 2042 not change\n",
      "Fix [2060, 2060]: 2060=[0, 1, 0, 0, 0, 0, 0]\n",
      "Fix [2062, 2064]: 2062=[0, 1, 0, 0, 0, 0, 0]\n",
      "Fix [2062, 2064]: 2063=[0, 1, 0, 0, 0, 0, 0]\n",
      "Fix [2062, 2064]: 2064=[0, 1, 0, 0, 0, 0, 0]\n",
      "Fix [2098, 2099]: 2098=[0, 1, 0, 0, 0, 0, 0]\n",
      "Fix [2098, 2099]: 2099=[0, 1, 0, 0, 0, 0, 0]\n",
      "Fix [2281, 2281]: 2281=[0, 1, 0, 0, 0, 0, 0]\n",
      "Fix [2284, 2286]: 2284=[0, 1, 0, 0, 0, 0, 0]\n",
      "Fix [2284, 2286]: 2285=[0, 1, 0, 0, 0, 0, 0]\n",
      "Fix [2284, 2286]: 2286=[0, 1, 0, 0, 0, 0, 0]\n",
      "Fix [2653, 2654]: 2653=[0, 1, 0, 0, 0, 0, 0]\n",
      "Fix [2653, 2654]: 2654=[0, 1, 0, 0, 0, 0, 0]\n",
      "Fix [3109, 3110]: 3109=[0, 1, 0, 0, 0, 0, 0]\n",
      "Fix [3109, 3110]: 3110=[0, 1, 0, 0, 0, 0, 0]\n",
      "Fix [3119, 3120]: 3119=[0, 1, 0, 0, 0, 0, 0]\n",
      "Fix [3119, 3120]: 3120=[0, 1, 0, 0, 0, 0, 0]\n",
      "Fix [3492, 3492]: 3492=[0, 1, 0, 0, 0, 0, 0]\n",
      "Fix [3731, 3732]: 3731=[0, 1, 0, 0, 0, 0, 0]\n",
      "Fix [3731, 3732]: 3732=[0, 1, 0, 0, 0, 0, 0]\n",
      "Fix [3742, 3742]: 3742=[0, 1, 0, 0, 0, 0, 0]\n",
      "Fix [3901, 3901]: 3901=[0, 1, 0, 0, 0, 0, 0]\n",
      "Fix [3904, 3904]: 3904=[0, 1, 0, 0, 0, 0, 0]\n",
      "Fix [4007, 4007]: 4007=[0, 1, 0, 0, 0, 0, 0]\n",
      "Fix [4105, 4106]: 4105=[0, 1, 0, 0, 0, 0, 0]\n",
      "Fix [4105, 4106]: 4106=[0, 1, 0, 0, 0, 0, 0]\n",
      "Fix [4877, 4877]: 4877=[0, 1, 0, 0, 0, 0, 0]\n",
      "Fix [4879, 4879]: 4879=[0, 1, 0, 0, 0, 0, 0]\n",
      "Fix [4881, 4881]: 4881=[0, 1, 0, 0, 0, 0, 0]\n",
      "Fix [5446, 5446]: 5446=[0, 1, 0, 0, 0, 0, 0]\n",
      "Fix [5455, 5456]: 5455=[0, 1, 0, 0, 0, 0, 0]\n",
      "Fix [5455, 5456]: 5456 not change\n",
      "Fix [5458, 5458]: 5458 not change\n"
     ]
    },
    {
     "name": "stderr",
     "output_type": "stream",
     "text": [
      "/mnt/data/cwy/ColonoscopyQualityControl/PostProcess.py:26: UserWarning: To copy construct from a tensor, it is recommended to use sourceTensor.clone().detach() or sourceTensor.clone().detach().requires_grad_(True), rather than torch.tensor(sourceTensor).\n",
      "  pred_fix[now_i] = torch.tensor(val_func(pred_origin, item, now_i))\n"
     ]
    }
   ],
   "source": [
    "pred_fix = post_process(pred_labels, outlier_json_path, do_fix_outside, do_fix_nonsense)"
   ],
   "metadata": {
    "collapsed": false,
    "ExecuteTime": {
     "end_time": "2023-11-07T07:44:46.753371400Z",
     "start_time": "2023-11-07T07:44:46.734955Z"
    }
   },
   "id": "ee45ae5319fc9bcc"
  },
  {
   "cell_type": "code",
   "execution_count": 14,
   "outputs": [],
   "source": [
    "pred_labels = pred_fix"
   ],
   "metadata": {
    "collapsed": false,
    "ExecuteTime": {
     "end_time": "2023-11-07T07:44:47.427454400Z",
     "start_time": "2023-11-07T07:44:47.420543600Z"
    }
   },
   "id": "dad1bc5a15608ec2"
  },
  {
   "cell_type": "markdown",
   "source": [
    "# 评估"
   ],
   "metadata": {
    "collapsed": false
   },
   "id": "eefafb130de958f7"
  },
  {
   "cell_type": "code",
   "execution_count": 15,
   "outputs": [],
   "source": [
    "gt_names, gt_labels = read_from_imagenet(gt_path)\n",
    "# gt_labels与pred_labels的每一行是一个长度为7的标签向量，分别对应label_dict的每个类别"
   ],
   "metadata": {
    "collapsed": false,
    "ExecuteTime": {
     "end_time": "2023-11-07T07:44:48.567953900Z",
     "start_time": "2023-11-07T07:44:48.538632500Z"
    }
   },
   "id": "af1fa4053e6dced2"
  },
  {
   "cell_type": "code",
   "execution_count": 16,
   "outputs": [],
   "source": [
    "confuse_matrix = dict()\n",
    "for i in range(3):\n",
    "    confuse_matrix[f'label_{index_label[i]}_TP'] = 0.\n",
    "    confuse_matrix[f'label_{index_label[i]}_FP'] = 0.\n",
    "    confuse_matrix[f'label_{index_label[i]}_FN'] = 0.\n",
    "    confuse_matrix[f'label_{index_label[i]}_TN'] = 0.\n",
    "for i in range(0, 4):  # i: predict\n",
    "    for j in range(0, 4):  # j: gt\n",
    "        confuse_matrix[f'label_cleansing_pred_{index_label[i + 3]}_gt_{index_label[j + 3]}'] = 0."
   ],
   "metadata": {
    "collapsed": false,
    "ExecuteTime": {
     "end_time": "2023-11-07T07:44:48.758524400Z",
     "start_time": "2023-11-07T07:44:48.715615500Z"
    }
   },
   "id": "6bc51339fd1ee2db"
  },
  {
   "cell_type": "code",
   "execution_count": 17,
   "outputs": [],
   "source": [
    "# 计算test_acc\n",
    "mean_acc = float(torch.eq(pred_labels, gt_labels).float().mean().cpu())"
   ],
   "metadata": {
    "collapsed": false,
    "ExecuteTime": {
     "end_time": "2023-11-07T07:44:48.905724100Z",
     "start_time": "2023-11-07T07:44:48.872939600Z"
    }
   },
   "id": "860c50c89e0a63cc"
  },
  {
   "cell_type": "code",
   "execution_count": 18,
   "outputs": [],
   "source": [
    "in_out_labels = pred_labels[:, 0]\n",
    "# 体内外标签: BoolTensor[B]\n",
    "# outside时为True\n",
    "label_in_out_pred = torch.gt(in_out_labels, 0)\n",
    "# 体内外gt: BoolTensor[B]\n",
    "label_in_out_gt = torch.gt(gt_labels[:, 0], 0)\n",
    "confuse_matrix[f'label_{index_label[0]}_TP'] += float((label_in_out_pred & label_in_out_gt).float().sum().cpu())\n",
    "confuse_matrix[f'label_{index_label[0]}_FP'] += float((label_in_out_pred & ~label_in_out_gt).float().sum().cpu())\n",
    "confuse_matrix[f'label_{index_label[0]}_FN'] += float((~label_in_out_pred & label_in_out_gt).float().sum().cpu())\n",
    "confuse_matrix[f'label_{index_label[0]}_TN'] += float((~label_in_out_pred & ~label_in_out_gt).float().sum().cpu())\n"
   ],
   "metadata": {
    "collapsed": false,
    "ExecuteTime": {
     "end_time": "2023-11-07T07:44:49.075031800Z",
     "start_time": "2023-11-07T07:44:49.032613300Z"
    }
   },
   "id": "16454670a54cccb6"
  },
  {
   "cell_type": "code",
   "execution_count": 19,
   "outputs": [],
   "source": [
    "nonsense_logit = pred_labels[:, 1]\n",
    "# 坏帧标签: BoolTensor[B]\n",
    "# nonsense时为True\n",
    "label_nonsense_pred = torch.gt(nonsense_logit, 0)\n",
    "# 帧质量gt: BoolTensor[B]\n",
    "# pred或gt是outside时不计入总数\n",
    "label_nonsense_gt = torch.gt(gt_labels[:, 1], 0)\n",
    "flag = ~label_in_out_pred & ~label_in_out_gt\n",
    "confuse_matrix[f'label_{index_label[1]}_TP'] += float(\n",
    "    (flag & label_nonsense_pred & label_nonsense_gt).float().sum().cpu())\n",
    "confuse_matrix[f'label_{index_label[1]}_FP'] += float(\n",
    "    (flag & label_nonsense_pred & ~label_nonsense_gt).float().sum().cpu())\n",
    "confuse_matrix[f'label_{index_label[1]}_FN'] += float(\n",
    "    (flag & ~label_nonsense_pred & label_nonsense_gt).float().sum().cpu())\n",
    "confuse_matrix[f'label_{index_label[1]}_TN'] += float(\n",
    "    (flag & ~label_nonsense_pred & ~label_nonsense_gt).float().sum().cpu())\n"
   ],
   "metadata": {
    "collapsed": false,
    "ExecuteTime": {
     "end_time": "2023-11-07T07:44:49.559904800Z",
     "start_time": "2023-11-07T07:44:49.554900200Z"
    }
   },
   "id": "ef3ad6045161a753"
  },
  {
   "cell_type": "code",
   "execution_count": 20,
   "outputs": [],
   "source": [
    "ileo_logit = pred_labels[:, 2]\n",
    "# 回盲部标签: BoolTensor[B]\n",
    "label_ileo_pred = torch.gt(ileo_logit, 0)\n",
    "# 回盲部gt: BoolTensor[B]\n",
    "label_ileo_gt = torch.gt(gt_labels[:, 2], 0)\n",
    "flag = ~label_in_out_pred & ~label_in_out_gt & ~label_nonsense_pred & ~label_nonsense_gt\n",
    "confuse_matrix[f'label_{index_label[2]}_TP'] += float((flag & label_ileo_pred & label_ileo_gt).float().sum().cpu())\n",
    "confuse_matrix[f'label_{index_label[2]}_FP'] += float((flag & label_ileo_pred & ~label_ileo_gt).float().sum().cpu())\n",
    "confuse_matrix[f'label_{index_label[2]}_FN'] += float((flag & ~label_ileo_pred & label_ileo_gt).float().sum().cpu())\n",
    "confuse_matrix[f'label_{index_label[2]}_TN'] += float((flag & ~label_ileo_pred & ~label_ileo_gt).float().sum().cpu())"
   ],
   "metadata": {
    "collapsed": false,
    "ExecuteTime": {
     "end_time": "2023-11-07T07:44:49.866035300Z",
     "start_time": "2023-11-07T07:44:49.860018700Z"
    }
   },
   "id": "c139988dff4832cd"
  },
  {
   "cell_type": "code",
   "execution_count": 21,
   "outputs": [],
   "source": [
    "# 清洁度logit: FloatTensor[B, 4]\n",
    "cls_logit = pred_labels[:, 3:]\n",
    "# 清洁度label: IntTensor[B] (取预测值最大的，但会被outside标签抑制)\n",
    "label_cls_pred = torch.argmax(cls_logit, dim=-1)\n",
    "# 清洁度gt: IntTensor[B]\n",
    "label_cls_gt = torch.argmax(gt_labels[:, 3:], dim=-1)\n",
    "flag = ~label_in_out_pred & ~label_in_out_gt & ~label_nonsense_pred & ~label_nonsense_gt\n",
    "for i in range(0, 4):  # i: predict\n",
    "    for j in range(0, 4):  # j: gt\n",
    "        confuse_matrix[f'label_cleansing_pred_{index_label[i + 3]}_gt_{index_label[j + 3]}'] += float((flag & torch.eq(label_cls_pred, i) & torch.eq(label_cls_gt, j)).float().sum().cpu())  # flag用于清洁度标签抑制"
   ],
   "metadata": {
    "collapsed": false,
    "ExecuteTime": {
     "end_time": "2023-11-07T07:44:50.089160Z",
     "start_time": "2023-11-07T07:44:50.080685400Z"
    }
   },
   "id": "2e2c50f40ad8eb87"
  },
  {
   "cell_type": "code",
   "execution_count": 22,
   "outputs": [
    {
     "data": {
      "text/plain": "{'label_outside_TP': 535.0,\n 'label_outside_FP': 0.0,\n 'label_outside_FN': 56.0,\n 'label_outside_TN': 5227.0,\n 'label_nonsense_TP': 1975.0,\n 'label_nonsense_FP': 41.0,\n 'label_nonsense_FN': 151.0,\n 'label_nonsense_TN': 3060.0,\n 'label_ileocecal_TP': 108.0,\n 'label_ileocecal_FP': 6.0,\n 'label_ileocecal_FN': 36.0,\n 'label_ileocecal_TN': 2910.0,\n 'label_cleansing_pred_bbps0_gt_bbps0': 27.0,\n 'label_cleansing_pred_bbps0_gt_bbps1': 7.0,\n 'label_cleansing_pred_bbps0_gt_bbps2': 0.0,\n 'label_cleansing_pred_bbps0_gt_bbps3': 0.0,\n 'label_cleansing_pred_bbps1_gt_bbps0': 14.0,\n 'label_cleansing_pred_bbps1_gt_bbps1': 203.0,\n 'label_cleansing_pred_bbps1_gt_bbps2': 10.0,\n 'label_cleansing_pred_bbps1_gt_bbps3': 0.0,\n 'label_cleansing_pred_bbps2_gt_bbps0': 0.0,\n 'label_cleansing_pred_bbps2_gt_bbps1': 70.0,\n 'label_cleansing_pred_bbps2_gt_bbps2': 856.0,\n 'label_cleansing_pred_bbps2_gt_bbps3': 75.0,\n 'label_cleansing_pred_bbps3_gt_bbps0': 0.0,\n 'label_cleansing_pred_bbps3_gt_bbps1': 3.0,\n 'label_cleansing_pred_bbps3_gt_bbps2': 96.0,\n 'label_cleansing_pred_bbps3_gt_bbps3': 1699.0}"
     },
     "execution_count": 22,
     "metadata": {},
     "output_type": "execute_result"
    }
   ],
   "source": [
    "confuse_matrix"
   ],
   "metadata": {
    "collapsed": false,
    "ExecuteTime": {
     "end_time": "2023-11-07T07:44:50.722863700Z",
     "start_time": "2023-11-07T07:44:50.707762300Z"
    }
   },
   "id": "2a1f6d8877f6b327"
  },
  {
   "cell_type": "code",
   "execution_count": 23,
   "outputs": [],
   "source": [
    "metrics = dict()\n",
    "\n",
    "# 体内外\n",
    "TP: float = confuse_matrix[f'label_{index_label[0]}_TP']\n",
    "FP: float = confuse_matrix[f'label_{index_label[0]}_FP']\n",
    "FN: float = confuse_matrix[f'label_{index_label[0]}_FN']\n",
    "TN: float = confuse_matrix[f'label_{index_label[0]}_TN']\n",
    "metrics[f'label_{index_label[0]}_acc'] = (TP + TN) / (TP + FP + FN + TN) if TP + FP + FN + TN > 0. else 0.\n",
    "\n",
    "# 帧质量\n",
    "TP: float = confuse_matrix[f'label_{index_label[1]}_TP']\n",
    "FP: float = confuse_matrix[f'label_{index_label[1]}_FP']\n",
    "FN: float = confuse_matrix[f'label_{index_label[1]}_FN']\n",
    "TN: float = confuse_matrix[f'label_{index_label[1]}_TN']\n",
    "metrics[f'label_{index_label[1]}_acc'] = (TP + TN) / (TP + FP + FN + TN) if TP + FP + FN + TN > 0. else 0.\n",
    "\n",
    "# 回盲部\n",
    "TP: float = confuse_matrix[f'label_{index_label[2]}_TP']\n",
    "FP: float = confuse_matrix[f'label_{index_label[2]}_FP']\n",
    "FN: float = confuse_matrix[f'label_{index_label[2]}_FN']\n",
    "TN: float = confuse_matrix[f'label_{index_label[2]}_TN']\n",
    "\n",
    "metrics[f'label_{index_label[2]}_acc'] = (TP + TN) / (TP + FP + FN + TN) if TP + FP + FN + TN > 0. else 0.\n",
    "\n",
    "# 四分清洁度准确率\n",
    "total: float = 0.\n",
    "correct: float = 0.\n",
    "for i in range(3, 7):  # i: predict\n",
    "    for j in range(3, 7):  # j: gt\n",
    "        tmp = confuse_matrix[f'label_cleansing_pred_{index_label[i]}_gt_{index_label[j]}']\n",
    "        if i == j:\n",
    "            correct += tmp\n",
    "        total += tmp\n",
    "metrics[f'label_cleansing_acc'] = correct / total if total > 0. else 0."
   ],
   "metadata": {
    "collapsed": false,
    "ExecuteTime": {
     "end_time": "2023-11-07T07:44:52.088689100Z",
     "start_time": "2023-11-07T07:44:52.083552600Z"
    }
   },
   "id": "884a121271e8c3da"
  },
  {
   "cell_type": "code",
   "execution_count": 24,
   "outputs": [
    {
     "data": {
      "text/plain": "0.973284900188446"
     },
     "execution_count": 24,
     "metadata": {},
     "output_type": "execute_result"
    }
   ],
   "source": [
    "mean_acc"
   ],
   "metadata": {
    "collapsed": false,
    "ExecuteTime": {
     "end_time": "2023-11-07T07:44:52.625953700Z",
     "start_time": "2023-11-07T07:44:52.616389500Z"
    }
   },
   "id": "4a1b4b3813f1d1"
  },
  {
   "cell_type": "code",
   "execution_count": 25,
   "outputs": [
    {
     "data": {
      "text/plain": "{'label_outside_acc': 0.9903746992093503,\n 'label_nonsense_acc': 0.9632676487468912,\n 'label_ileocecal_acc': 0.9862745098039216,\n 'label_cleansing_acc': 0.9101307189542484}"
     },
     "execution_count": 25,
     "metadata": {},
     "output_type": "execute_result"
    }
   ],
   "source": [
    "metrics"
   ],
   "metadata": {
    "collapsed": false,
    "ExecuteTime": {
     "end_time": "2023-11-07T07:44:53.110961300Z",
     "start_time": "2023-11-07T07:44:53.096548900Z"
    }
   },
   "id": "14b2dfc2f2320e5f"
  },
  {
   "cell_type": "code",
   "execution_count": 77,
   "outputs": [],
   "source": [
    "for i in range(pred_labels.size()[0]):\n",
    "    if torch.not_equal(pred_labels[i],gt_labels[i]).any():\n",
    "        print(f\"{i}:{pred_labels[i].numpy()} != {gt_labels[i].numpy()}\")"
   ],
   "metadata": {
    "collapsed": false,
    "ExecuteTime": {
     "end_time": "2023-11-06T07:48:01.337189400Z",
     "start_time": "2023-11-06T07:48:01.248591300Z"
    }
   },
   "id": "ab3cfd256299d0f7"
  },
  {
   "cell_type": "markdown",
   "source": [
    "# 可视化"
   ],
   "metadata": {
    "collapsed": false
   },
   "id": "a2958ca4588ecbc8"
  },
  {
   "cell_type": "code",
   "execution_count": 80,
   "outputs": [],
   "source": [
    "import DrawLabelColorBlock\n",
    "import os\n",
    "import os.path as osp\n",
    "import shutil"
   ],
   "metadata": {
    "collapsed": false,
    "ExecuteTime": {
     "end_time": "2023-11-06T07:48:15.067913800Z",
     "start_time": "2023-11-06T07:48:15.062560300Z"
    }
   },
   "id": "ab1c607d2fa4b3a"
  },
  {
   "cell_type": "code",
   "execution_count": 81,
   "outputs": [],
   "source": [
    "frames_pred_root = osp.join(exp_root, 'frames_with_pred')\n",
    "os.makedirs(frames_pred_root, exist_ok=True)\n",
    "frames_ori_path = osp.join(exp_root, 'frames', video)\n",
    "frames_pred_path = osp.join(frames_pred_root, video)\n",
    "if osp.exists(frames_pred_path):\n",
    "    shutil.rmtree(frames_pred_path)\n",
    "os.makedirs(frames_pred_path)"
   ],
   "metadata": {
    "collapsed": false,
    "ExecuteTime": {
     "end_time": "2023-11-06T07:48:15.253855700Z",
     "start_time": "2023-11-06T07:48:15.250181400Z"
    }
   },
   "id": "9c5fc8477cd03906"
  },
  {
   "cell_type": "code",
   "execution_count": 82,
   "outputs": [],
   "source": [
    "for i,pd in enumerate(pred_labels):\n",
    "    ori_img_path = osp.join(frames_ori_path, osp.split(pred_names[i])[-1])\n",
    "    out_img_path = osp.join(frames_pred_path,osp.split(pred_names[i])[-1])\n",
    "    pd_np=pd.numpy()\n",
    "    pd_dict={'outside': False,\n",
    "           'nonsense': False,\n",
    "           'ileocecal': False,\n",
    "           'bbps': -1}\n",
    "    if pd_np[0]==1:\n",
    "        pd_dict['outside']=True\n",
    "    if pd_np[1]==1:\n",
    "        pd_dict['nonsense']=True\n",
    "    if pd_np[2]==1:\n",
    "        pd_dict['ileocecal']=True\n",
    "    if pd_np[3]==1:\n",
    "        pd_dict['bbps']=0\n",
    "    elif pd_np[4]==1:\n",
    "        pd_dict['bbps']=1\n",
    "    elif pd_np[5]==1:\n",
    "        pd_dict['bbps']=2\n",
    "    elif pd_np[6]==1:\n",
    "        pd_dict['bbps']=3\n",
    "    DrawLabelColorBlock.DrawLabelColorBlockOnFrame(ori_img_path,out_img_path,**pd_dict)"
   ],
   "metadata": {
    "collapsed": false,
    "ExecuteTime": {
     "end_time": "2023-11-06T08:04:55.028983700Z",
     "start_time": "2023-11-06T07:48:19.680911600Z"
    }
   },
   "id": "eb11a226e4b78d2a"
  },
  {
   "cell_type": "code",
   "execution_count": 83,
   "outputs": [
    {
     "data": {
      "text/plain": "['000000.png',\n '000002.png',\n '000004.png',\n '000006.png',\n '000008.png',\n '000010.png',\n '000012.png',\n '000014.png',\n '000016.png',\n '000018.png',\n '000020.png',\n '000022.png',\n '000024.png',\n '000026.png',\n '000028.png',\n '000030.png',\n '000032.png',\n '000034.png',\n '000036.png',\n '000038.png',\n '000040.png',\n '000042.png',\n '000044.png',\n '000046.png',\n '000048.png',\n '000050.png',\n '000052.png',\n '000054.png',\n '000056.png',\n '000058.png',\n '000060.png',\n '000062.png',\n '000064.png',\n '000066.png',\n '000068.png',\n '000070.png',\n '000072.png',\n '000074.png',\n '000076.png',\n '000078.png',\n '000080.png',\n '000082.png',\n '000084.png',\n '000086.png',\n '000088.png',\n '000090.png',\n '000092.png',\n '000094.png',\n '000096.png',\n '000098.png',\n '000100.png',\n '000102.png',\n '000104.png',\n '000106.png',\n '000108.png',\n '000110.png',\n '000112.png',\n '000114.png',\n '000116.png',\n '000118.png',\n '000120.png',\n '000122.png',\n '000124.png',\n '000126.png',\n '000128.png',\n '000130.png',\n '000132.png',\n '000134.png',\n '000136.png',\n '000138.png',\n '000140.png',\n '000142.png',\n '000144.png',\n '000146.png',\n '000148.png',\n '000150.png',\n '000152.png',\n '000154.png',\n '000156.png',\n '000158.png',\n '000160.png',\n '000162.png',\n '000164.png',\n '000166.png',\n '000168.png',\n '000170.png',\n '000172.png',\n '000174.png',\n '000176.png',\n '000178.png',\n '000180.png',\n '000182.png',\n '000184.png',\n '000186.png',\n '000188.png',\n '000190.png',\n '000192.png',\n '000194.png',\n '000196.png',\n '000198.png',\n '000200.png',\n '000202.png',\n '000204.png',\n '000206.png',\n '000208.png',\n '000210.png',\n '000212.png',\n '000214.png',\n '000216.png',\n '000218.png',\n '000220.png',\n '000222.png',\n '000224.png',\n '000226.png',\n '000228.png',\n '000230.png',\n '000232.png',\n '000234.png',\n '000236.png',\n '000238.png',\n '000240.png',\n '000242.png',\n '000244.png',\n '000246.png',\n '000248.png',\n '000250.png',\n '000252.png',\n '000254.png',\n '000256.png',\n '000258.png',\n '000260.png',\n '000262.png',\n '000264.png',\n '000266.png',\n '000268.png',\n '000270.png',\n '000272.png',\n '000274.png',\n '000276.png',\n '000278.png',\n '000280.png',\n '000282.png',\n '000284.png',\n '000286.png',\n '000288.png',\n '000290.png',\n '000292.png',\n '000294.png',\n '000296.png',\n '000298.png',\n '000300.png',\n '000302.png',\n '000304.png',\n '000306.png',\n '000308.png',\n '000310.png',\n '000312.png',\n '000314.png',\n '000316.png',\n '000318.png',\n '000320.png',\n '000322.png',\n '000324.png',\n '000326.png',\n '000328.png',\n '000330.png',\n '000332.png',\n '000334.png',\n '000336.png',\n '000338.png',\n '000340.png',\n '000342.png',\n '000344.png',\n '000346.png',\n '000348.png',\n '000350.png',\n '000352.png',\n '000354.png',\n '000356.png',\n '000358.png',\n '000360.png',\n '000362.png',\n '000364.png',\n '000366.png',\n '000368.png',\n '000370.png',\n '000372.png',\n '000374.png',\n '000376.png',\n '000378.png',\n '000380.png',\n '000382.png',\n '000384.png',\n '000386.png',\n '000388.png',\n '000390.png',\n '000392.png',\n '000394.png',\n '000396.png',\n '000398.png',\n '000400.png',\n '000402.png',\n '000404.png',\n '000406.png',\n '000408.png',\n '000410.png',\n '000412.png',\n '000414.png',\n '000416.png',\n '000418.png',\n '000420.png',\n '000422.png',\n '000424.png',\n '000426.png',\n '000428.png',\n '000430.png',\n '000432.png',\n '000434.png',\n '000436.png',\n '000438.png',\n '000440.png',\n '000442.png',\n '000444.png',\n '000446.png',\n '000448.png',\n '000450.png',\n '000452.png',\n '000454.png',\n '000456.png',\n '000458.png',\n '000460.png',\n '000462.png',\n '000464.png',\n '000466.png',\n '000468.png',\n '000470.png',\n '000472.png',\n '000474.png',\n '000476.png',\n '000478.png',\n '000480.png',\n '000482.png',\n '000484.png',\n '000486.png',\n '000488.png',\n '000490.png',\n '000492.png',\n '000494.png',\n '000496.png',\n '000498.png',\n '000500.png',\n '000502.png',\n '000504.png',\n '000506.png',\n '000508.png',\n '000510.png',\n '000512.png',\n '000514.png',\n '000516.png',\n '000518.png',\n '000520.png',\n '000522.png',\n '000524.png',\n '000526.png',\n '000528.png',\n '000530.png',\n '000532.png',\n '000534.png',\n '000536.png',\n '000538.png',\n '000540.png',\n '000542.png',\n '000544.png',\n '000546.png',\n '000548.png',\n '000550.png',\n '000552.png',\n '000554.png',\n '000556.png',\n '000558.png',\n '000560.png',\n '000562.png',\n '000564.png',\n '000566.png',\n '000568.png',\n '000570.png',\n '000572.png',\n '000574.png',\n '000576.png',\n '000578.png',\n '000580.png',\n '000582.png',\n '000584.png',\n '000586.png',\n '000588.png',\n '000590.png',\n '000592.png',\n '000594.png',\n '000596.png',\n '000598.png',\n '000600.png',\n '000602.png',\n '000604.png',\n '000606.png',\n '000608.png',\n '000610.png',\n '000612.png',\n '000614.png',\n '000616.png',\n '000618.png',\n '000620.png',\n '000622.png',\n '000624.png',\n '000626.png',\n '000628.png',\n '000630.png',\n '000632.png',\n '000634.png',\n '000636.png',\n '000638.png',\n '000640.png',\n '000642.png',\n '000644.png',\n '000646.png',\n '000648.png',\n '000650.png',\n '000652.png',\n '000654.png',\n '000656.png',\n '000658.png',\n '000660.png',\n '000662.png',\n '000664.png',\n '000666.png',\n '000668.png',\n '000670.png',\n '000672.png',\n '000674.png',\n '000676.png',\n '000678.png',\n '000680.png',\n '000682.png',\n '000684.png',\n '000686.png',\n '000688.png',\n '000690.png',\n '000692.png',\n '000694.png',\n '000696.png',\n '000698.png',\n '000700.png',\n '000702.png',\n '000704.png',\n '000706.png',\n '000708.png',\n '000710.png',\n '000712.png',\n '000714.png',\n '000716.png',\n '000718.png',\n '000720.png',\n '000722.png',\n '000724.png',\n '000726.png',\n '000728.png',\n '000730.png',\n '000732.png',\n '000734.png',\n '000736.png',\n '000738.png',\n '000740.png',\n '000742.png',\n '000744.png',\n '000746.png',\n '000748.png',\n '000750.png',\n '000752.png',\n '000754.png',\n '000756.png',\n '000758.png',\n '000760.png',\n '000762.png',\n '000764.png',\n '000766.png',\n '000768.png',\n '000770.png',\n '000772.png',\n '000774.png',\n '000776.png',\n '000778.png',\n '000780.png',\n '000782.png',\n '000784.png',\n '000786.png',\n '000788.png',\n '000790.png',\n '000792.png',\n '000794.png',\n '000796.png',\n '000798.png',\n '000800.png',\n '000802.png',\n '000804.png',\n '000806.png',\n '000808.png',\n '000810.png',\n '000812.png',\n '000814.png',\n '000816.png',\n '000818.png',\n '000820.png',\n '000822.png',\n '000824.png',\n '000826.png',\n '000828.png',\n '000830.png',\n '000832.png',\n '000834.png',\n '000836.png',\n '000838.png',\n '000840.png',\n '000842.png',\n '000844.png',\n '000846.png',\n '000848.png',\n '000850.png',\n '000852.png',\n '000854.png',\n '000856.png',\n '000858.png',\n '000860.png',\n '000862.png',\n '000864.png',\n '000866.png',\n '000868.png',\n '000870.png',\n '000872.png',\n '000874.png',\n '000876.png',\n '000878.png',\n '000880.png',\n '000882.png',\n '000884.png',\n '000886.png',\n '000888.png',\n '000890.png',\n '000892.png',\n '000894.png',\n '000896.png',\n '000898.png',\n '000900.png',\n '000902.png',\n '000904.png',\n '000906.png',\n '000908.png',\n '000910.png',\n '000912.png',\n '000914.png',\n '000916.png',\n '000918.png',\n '000920.png',\n '000922.png',\n '000924.png',\n '000926.png',\n '000928.png',\n '000930.png',\n '000932.png',\n '000934.png',\n '000936.png',\n '000938.png',\n '000940.png',\n '000942.png',\n '000944.png',\n '000946.png',\n '000948.png',\n '000950.png',\n '000952.png',\n '000954.png',\n '000956.png',\n '000958.png',\n '000960.png',\n '000962.png',\n '000964.png',\n '000966.png',\n '000968.png',\n '000970.png',\n '000972.png',\n '000974.png',\n '000976.png',\n '000978.png',\n '000980.png',\n '000982.png',\n '000984.png',\n '000986.png',\n '000988.png',\n '000990.png',\n '000992.png',\n '000994.png',\n '000996.png',\n '000998.png',\n '001000.png',\n '001002.png',\n '001004.png',\n '001006.png',\n '001008.png',\n '001010.png',\n '001012.png',\n '001014.png',\n '001016.png',\n '001018.png',\n '001020.png',\n '001022.png',\n '001024.png',\n '001026.png',\n '001028.png',\n '001030.png',\n '001032.png',\n '001034.png',\n '001036.png',\n '001038.png',\n '001040.png',\n '001042.png',\n '001044.png',\n '001046.png',\n '001048.png',\n '001050.png',\n '001052.png',\n '001054.png',\n '001056.png',\n '001058.png',\n '001060.png',\n '001062.png',\n '001064.png',\n '001066.png',\n '001068.png',\n '001070.png',\n '001072.png',\n '001074.png',\n '001076.png',\n '001078.png',\n '001080.png',\n '001082.png',\n '001084.png',\n '001086.png',\n '001088.png',\n '001090.png',\n '001092.png',\n '001094.png',\n '001096.png',\n '001098.png',\n '001100.png',\n '001102.png',\n '001104.png',\n '001106.png',\n '001108.png',\n '001110.png',\n '001112.png',\n '001114.png',\n '001116.png',\n '001118.png',\n '001120.png',\n '001122.png',\n '001124.png',\n '001126.png',\n '001128.png',\n '001130.png',\n '001132.png',\n '001134.png',\n '001136.png',\n '001138.png',\n '001140.png',\n '001142.png',\n '001144.png',\n '001146.png',\n '001148.png',\n '001150.png',\n '001152.png',\n '001154.png',\n '001156.png',\n '001158.png',\n '001160.png',\n '001162.png',\n '001164.png',\n '001166.png',\n '001168.png',\n '001170.png',\n '001172.png',\n '001174.png',\n '001176.png',\n '001178.png',\n '001180.png',\n '001182.png',\n '001184.png',\n '001186.png',\n '001188.png',\n '001190.png',\n '001192.png',\n '001194.png',\n '001196.png',\n '001198.png',\n '001200.png',\n '001202.png',\n '001204.png',\n '001206.png',\n '001208.png',\n '001210.png',\n '001212.png',\n '001214.png',\n '001216.png',\n '001218.png',\n '001220.png',\n '001222.png',\n '001224.png',\n '001226.png',\n '001228.png',\n '001230.png',\n '001232.png',\n '001234.png',\n '001236.png',\n '001238.png',\n '001240.png',\n '001242.png',\n '001244.png',\n '001246.png',\n '001248.png',\n '001250.png',\n '001252.png',\n '001254.png',\n '001256.png',\n '001258.png',\n '001260.png',\n '001262.png',\n '001264.png',\n '001266.png',\n '001268.png',\n '001270.png',\n '001272.png',\n '001274.png',\n '001276.png',\n '001278.png',\n '001280.png',\n '001282.png',\n '001284.png',\n '001286.png',\n '001288.png',\n '001290.png',\n '001292.png',\n '001294.png',\n '001296.png',\n '001298.png',\n '001300.png',\n '001302.png',\n '001304.png',\n '001306.png',\n '001308.png',\n '001310.png',\n '001312.png',\n '001314.png',\n '001316.png',\n '001318.png',\n '001320.png',\n '001322.png',\n '001324.png',\n '001326.png',\n '001328.png',\n '001330.png',\n '001332.png',\n '001334.png',\n '001336.png',\n '001338.png',\n '001340.png',\n '001342.png',\n '001344.png',\n '001346.png',\n '001348.png',\n '001350.png',\n '001352.png',\n '001354.png',\n '001356.png',\n '001358.png',\n '001360.png',\n '001362.png',\n '001364.png',\n '001366.png',\n '001368.png',\n '001370.png',\n '001372.png',\n '001374.png',\n '001376.png',\n '001378.png',\n '001380.png',\n '001382.png',\n '001384.png',\n '001386.png',\n '001388.png',\n '001390.png',\n '001392.png',\n '001394.png',\n '001396.png',\n '001398.png',\n '001400.png',\n '001402.png',\n '001404.png',\n '001406.png',\n '001408.png',\n '001410.png',\n '001412.png',\n '001414.png',\n '001416.png',\n '001418.png',\n '001420.png',\n '001422.png',\n '001424.png',\n '001426.png',\n '001428.png',\n '001430.png',\n '001432.png',\n '001434.png',\n '001436.png',\n '001438.png',\n '001440.png',\n '001442.png',\n '001444.png',\n '001446.png',\n '001448.png',\n '001450.png',\n '001452.png',\n '001454.png',\n '001456.png',\n '001458.png',\n '001460.png',\n '001462.png',\n '001464.png',\n '001466.png',\n '001468.png',\n '001470.png',\n '001472.png',\n '001474.png',\n '001476.png',\n '001478.png',\n '001480.png',\n '001482.png',\n '001484.png',\n '001486.png',\n '001488.png',\n '001490.png',\n '001492.png',\n '001494.png',\n '001496.png',\n '001498.png',\n '001500.png',\n '001502.png',\n '001504.png',\n '001506.png',\n '001508.png',\n '001510.png',\n '001512.png',\n '001514.png',\n '001516.png',\n '001518.png',\n '001520.png',\n '001522.png',\n '001524.png',\n '001526.png',\n '001528.png',\n '001530.png',\n '001532.png',\n '001534.png',\n '001536.png',\n '001538.png',\n '001540.png',\n '001542.png',\n '001544.png',\n '001546.png',\n '001548.png',\n '001550.png',\n '001552.png',\n '001554.png',\n '001556.png',\n '001558.png',\n '001560.png',\n '001562.png',\n '001564.png',\n '001566.png',\n '001568.png',\n '001570.png',\n '001572.png',\n '001574.png',\n '001576.png',\n '001578.png',\n '001580.png',\n '001582.png',\n '001584.png',\n '001586.png',\n '001588.png',\n '001590.png',\n '001592.png',\n '001594.png',\n '001596.png',\n '001598.png',\n '001600.png',\n '001602.png',\n '001604.png',\n '001606.png',\n '001608.png',\n '001610.png',\n '001612.png',\n '001614.png',\n '001616.png',\n '001618.png',\n '001620.png',\n '001622.png',\n '001624.png',\n '001626.png',\n '001628.png',\n '001630.png',\n '001632.png',\n '001634.png',\n '001636.png',\n '001638.png',\n '001640.png',\n '001642.png',\n '001644.png',\n '001646.png',\n '001648.png',\n '001650.png',\n '001652.png',\n '001654.png',\n '001656.png',\n '001658.png',\n '001660.png',\n '001662.png',\n '001664.png',\n '001666.png',\n '001668.png',\n '001670.png',\n '001672.png',\n '001674.png',\n '001676.png',\n '001678.png',\n '001680.png',\n '001682.png',\n '001684.png',\n '001686.png',\n '001688.png',\n '001690.png',\n '001692.png',\n '001694.png',\n '001696.png',\n '001698.png',\n '001700.png',\n '001702.png',\n '001704.png',\n '001706.png',\n '001708.png',\n '001710.png',\n '001712.png',\n '001714.png',\n '001716.png',\n '001718.png',\n '001720.png',\n '001722.png',\n '001724.png',\n '001726.png',\n '001728.png',\n '001730.png',\n '001732.png',\n '001734.png',\n '001736.png',\n '001738.png',\n '001740.png',\n '001742.png',\n '001744.png',\n '001746.png',\n '001748.png',\n '001750.png',\n '001752.png',\n '001754.png',\n '001756.png',\n '001758.png',\n '001760.png',\n '001762.png',\n '001764.png',\n '001766.png',\n '001768.png',\n '001770.png',\n '001772.png',\n '001774.png',\n '001776.png',\n '001778.png',\n '001780.png',\n '001782.png',\n '001784.png',\n '001786.png',\n '001788.png',\n '001790.png',\n '001792.png',\n '001794.png',\n '001796.png',\n '001798.png',\n '001800.png',\n '001802.png',\n '001804.png',\n '001806.png',\n '001808.png',\n '001810.png',\n '001812.png',\n '001814.png',\n '001816.png',\n '001818.png',\n '001820.png',\n '001822.png',\n '001824.png',\n '001826.png',\n '001828.png',\n '001830.png',\n '001832.png',\n '001834.png',\n '001836.png',\n '001838.png',\n '001840.png',\n '001842.png',\n '001844.png',\n '001846.png',\n '001848.png',\n '001850.png',\n '001852.png',\n '001854.png',\n '001856.png',\n '001858.png',\n '001860.png',\n '001862.png',\n '001864.png',\n '001866.png',\n '001868.png',\n '001870.png',\n '001872.png',\n '001874.png',\n '001876.png',\n '001878.png',\n '001880.png',\n '001882.png',\n '001884.png',\n '001886.png',\n '001888.png',\n '001890.png',\n '001892.png',\n '001894.png',\n '001896.png',\n '001898.png',\n '001900.png',\n '001902.png',\n '001904.png',\n '001906.png',\n '001908.png',\n '001910.png',\n '001912.png',\n '001914.png',\n '001916.png',\n '001918.png',\n '001920.png',\n '001922.png',\n '001924.png',\n '001926.png',\n '001928.png',\n '001930.png',\n '001932.png',\n '001934.png',\n '001936.png',\n '001938.png',\n '001940.png',\n '001942.png',\n '001944.png',\n '001946.png',\n '001948.png',\n '001950.png',\n '001952.png',\n '001954.png',\n '001956.png',\n '001958.png',\n '001960.png',\n '001962.png',\n '001964.png',\n '001966.png',\n '001968.png',\n '001970.png',\n '001972.png',\n '001974.png',\n '001976.png',\n '001978.png',\n '001980.png',\n '001982.png',\n '001984.png',\n '001986.png',\n '001988.png',\n '001990.png',\n '001992.png',\n '001994.png',\n '001996.png',\n '001998.png',\n ...]"
     },
     "execution_count": 83,
     "metadata": {},
     "output_type": "execute_result"
    }
   ],
   "source": [
    "# 把帧拼成视频\n",
    "img_list = os.listdir(frames_pred_path)\n",
    "img_list.sort(key=lambda x: int(x.split('.')[0]))\n",
    "img_list"
   ],
   "metadata": {
    "collapsed": false,
    "ExecuteTime": {
     "end_time": "2023-11-06T08:04:55.076684Z",
     "start_time": "2023-11-06T08:04:55.034841100Z"
    }
   },
   "id": "a58368325d98a17b"
  },
  {
   "cell_type": "code",
   "execution_count": 84,
   "outputs": [],
   "source": [
    "video_pred_root = osp.join(exp_root, 'videos_with_pred')\n",
    "os.makedirs(video_pred_root, exist_ok=True)"
   ],
   "metadata": {
    "collapsed": false,
    "ExecuteTime": {
     "end_time": "2023-11-06T08:04:55.132387Z",
     "start_time": "2023-11-06T08:04:55.072673Z"
    }
   },
   "id": "14704d480694638"
  },
  {
   "cell_type": "code",
   "execution_count": 85,
   "outputs": [],
   "source": [
    "import cv2\n",
    "# cv2\n",
    "img = cv2.imread(osp.join(frames_pred_path, img_list[0]))\n",
    "height, width, layers = img.shape\n",
    "\n",
    "fourcc = cv2.VideoWriter_fourcc(*'mp4v')\n",
    "video = cv2.VideoWriter(osp.join(video_pred_root, f'{video}.mp4'), fourcc, 12.5, (width, height))\n",
    "\n",
    "for img_name in img_list:\n",
    "    img = cv2.imread(osp.join(frames_pred_path, img_name))\n",
    "    video.write(img)\n",
    "    \n",
    "cv2.destroyAllWindows()\n",
    "video.release()"
   ],
   "metadata": {
    "collapsed": false,
    "ExecuteTime": {
     "end_time": "2023-11-06T08:07:11.890163200Z",
     "start_time": "2023-11-06T08:04:55.101332200Z"
    }
   },
   "id": "8ab819849f51b2c7"
  },
  {
   "cell_type": "code",
   "execution_count": null,
   "outputs": [],
   "source": [],
   "metadata": {
    "collapsed": false
   },
   "id": "d1654ecd4ec34337"
  }
 ],
 "metadata": {
  "kernelspec": {
   "display_name": "Python 3",
   "language": "python",
   "name": "python3"
  },
  "language_info": {
   "codemirror_mode": {
    "name": "ipython",
    "version": 2
   },
   "file_extension": ".py",
   "mimetype": "text/x-python",
   "name": "python",
   "nbconvert_exporter": "python",
   "pygments_lexer": "ipython2",
   "version": "2.7.6"
  }
 },
 "nbformat": 4,
 "nbformat_minor": 5
}
