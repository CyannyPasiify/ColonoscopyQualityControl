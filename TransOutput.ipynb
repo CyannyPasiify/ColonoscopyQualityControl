{
 "cells": [
  {
   "cell_type": "code",
   "execution_count": 7,
   "id": "initial_id",
   "metadata": {
    "collapsed": true,
    "ExecuteTime": {
     "end_time": "2023-09-20T01:05:00.171331400Z",
     "start_time": "2023-09-20T01:05:00.155116100Z"
    }
   },
   "outputs": [],
   "source": [
    "import json"
   ]
  },
  {
   "cell_type": "code",
   "execution_count": 9,
   "outputs": [],
   "source": [
    "d = json.load(open(\"/mnt/data4/cwy/CQCExp/Experiment/R105_detect_fps_vitp14s336c7_40/predicts/HYL_Clip/predict_result.json\",'r'))"
   ],
   "metadata": {
    "collapsed": false,
    "ExecuteTime": {
     "end_time": "2023-09-20T01:05:00.917825Z",
     "start_time": "2023-09-20T01:05:00.880888500Z"
    }
   },
   "id": "234fd999d460a6ad"
  },
  {
   "cell_type": "code",
   "execution_count": 11,
   "outputs": [],
   "source": [
    "with open(\"out.txt\",'w') as f:\n",
    "    for k, v in d.items():\n",
    "        print(\"HYL_Clip/\"+k,file=f,end=' ')\n",
    "        res = []\n",
    "        if v[0] == 1: res.append(4)\n",
    "        if v[1] == 1: res.append(5)\n",
    "        if v[2] == 1: res.append(6)\n",
    "        if v[3] == 1: res.append(0)\n",
    "        if v[4] == 1: res.append(1)\n",
    "        if v[5] == 1: res.append(2)\n",
    "        if v[6] == 1: res.append(3)\n",
    "        sorted(res,reverse=False)\n",
    "        for it in res:\n",
    "            print(it,file=f,end=' ')\n",
    "        f.write('\\n')\n",
    "        \n",
    "            \n",
    "            "
   ],
   "metadata": {
    "collapsed": false,
    "ExecuteTime": {
     "end_time": "2023-09-20T01:05:03.715338300Z",
     "start_time": "2023-09-20T01:05:03.684771600Z"
    }
   },
   "id": "9d5065da85fe2a4"
  },
  {
   "cell_type": "code",
   "execution_count": 12,
   "outputs": [
    {
     "data": {
      "text/plain": "\"         0: 'outside',\\n            1: 'nonsense',\\n            2: 'ileocecal',\\n            3: 'bbps0',\\n            4: 'bbps1',\\n            5: 'bbps2',\\n            6: 'bbps3',\\n\""
     },
     "execution_count": 12,
     "metadata": {},
     "output_type": "execute_result"
    }
   ],
   "source": [
    "'''         0: 'outside',\n",
    "            1: 'nonsense',\n",
    "            2: 'ileocecal',\n",
    "            3: 'bbps0',\n",
    "            4: 'bbps1',\n",
    "            5: 'bbps2',\n",
    "            6: 'bbps3',\n",
    "''' "
   ],
   "metadata": {
    "collapsed": false,
    "ExecuteTime": {
     "end_time": "2023-09-20T01:05:04.700110800Z",
     "start_time": "2023-09-20T01:05:04.693093400Z"
    }
   },
   "id": "ec46212611a66fa3"
  }
 ],
 "metadata": {
  "kernelspec": {
   "display_name": "Python 3",
   "language": "python",
   "name": "python3"
  },
  "language_info": {
   "codemirror_mode": {
    "name": "ipython",
    "version": 2
   },
   "file_extension": ".py",
   "mimetype": "text/x-python",
   "name": "python",
   "nbconvert_exporter": "python",
   "pygments_lexer": "ipython2",
   "version": "2.7.6"
  }
 },
 "nbformat": 4,
 "nbformat_minor": 5
}
